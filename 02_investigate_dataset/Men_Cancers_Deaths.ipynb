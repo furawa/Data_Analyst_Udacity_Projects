{
 "cells": [
  {
   "cell_type": "markdown",
   "metadata": {},
   "source": [
    "# Common Cancers Deaths in Men (1990 - 2016)\n",
    "\n",
    "Table of Contents  \n",
    "\n",
    "- [Summary](#summary)  \n",
    "- [Data Wrangling](#wrangling)\n",
    "- [Exploratory Data Analysis](#eda)\n",
    "- [Conclusions](#conclusions)\n",
    "\n",
    "\n",
    "## <a name = \"summary\"> </a>Introduction\n",
    "\n",
    "There are 5 common types of cancer in Men, lung cancer, stomach cancer, liver cancer, prostate cancer and colon&rectum cancer. In 2016, more than **1 million** Men die of one of this cancer over the world. \n",
    "Which country is affected the most by these cancers? What is the cancer which kill the most? How is the evolution of these cancer deaths since 1990?  \n",
    "In this project we will analyse the data taken from the [Gapminder World](www.gapminder.org) about these 5 types\n",
    "of cancer in Men and try to find an answer to these questions.\n",
    "\n"
   ]
  },
  {
   "cell_type": "code",
   "execution_count": 73,
   "metadata": {},
   "outputs": [],
   "source": [
    "# Imports all the needed packages for the project\n",
    "import pandas as pd                # Imports the package for the dataframes\n",
    "import numpy as np                 # Imports the package for the arrays\n",
    "import matplotlib.style as style   # Imports the package for the plot\n",
    "import folium                      # Imports the package For the world map\n",
    "style.use(\"fivethirtyeight\")       # We use this style for the plots\n",
    "from functools import reduce\n",
    "import glob\n",
    "%matplotlib inline                 "
   ]
  },
  {
   "cell_type": "markdown",
   "metadata": {},
   "source": [
    "## <a name=\"wrangling\"></a>Data Wrangling  \n",
    "First of all we import all the separated files and gather it in one unique dataset.  \n",
    "\n",
    "### General Properties"
   ]
  },
  {
   "cell_type": "code",
   "execution_count": 74,
   "metadata": {},
   "outputs": [],
   "source": [
    "## Load all the files \n",
    "pattern = \"files/*deaths.csv\"      # Pattern to find all the files that finish with deaths \n",
    "all_files = glob.glob(pattern)     # Uses the pattern to import all the files and then put it in all_files list\n",
    "files_names = [\"col_rec_df\", \"stomach_df\", \"liver_df\", \"prostate_df\", \"lung_df\"] # List of the name of each file\n",
    "all_dict = {}                        # Creates an empty dictionary to store the names and dataframes\n",
    "assert len(all_files) == len(files_names) # Controls if the number of files imported are the same number of names\n",
    "for i in range(len(all_files)):\n",
    "    all_dict[files_names[i]] = pd.read_csv(all_files[i]) # Loads each file gives it the right name and put in the dict \n"
   ]
  },
  {
   "cell_type": "markdown",
   "metadata": {},
   "source": [
    "Now that all the files are loaded with a unique name, let us take a look at the structure of each file."
   ]
  },
  {
   "cell_type": "code",
   "execution_count": 75,
   "metadata": {},
   "outputs": [
    {
     "name": "stdout",
     "output_type": "stream",
     "text": [
      "col_rec_df (187, 28)\n",
      "stomach_df (187, 28)\n",
      "liver_df (187, 28)\n",
      "prostate_df (187, 28)\n",
      "lung_df (187, 28)\n"
     ]
    }
   ],
   "source": [
    "# Cheks all the dataframe shape \n",
    "for name,df in all_dict.items(): \n",
    "    print(name, df.shape)       "
   ]
  },
  {
   "cell_type": "markdown",
   "metadata": {},
   "source": [
    "All five dataframes have same shape **187** observations and **28** variables"
   ]
  },
  {
   "cell_type": "code",
   "execution_count": 76,
   "metadata": {},
   "outputs": [
    {
     "name": "stdout",
     "output_type": "stream",
     "text": [
      "col_rec_df        country   1990   1991   1992   1993   1994   1995   1996   1997   1998  \\\n",
      "0  Afghanistan  153.0  165.0  181.0  200.0  219.0  237.0  249.0  258.0  265.0   \n",
      "\n",
      "   ...   2007   2008   2009   2010   2011   2012   2013   2014   2015   2016  \n",
      "0  ...  403.0  418.0  434.0  452.0  470.0  492.0  516.0  543.0  571.0  599.0  \n",
      "\n",
      "[1 rows x 28 columns]\n",
      "stomach_df        country   1990   1991   1992   1993   1994   1995   1996   1997   1998  \\\n",
      "0  Afghanistan  482.0  519.0  568.0  630.0  698.0  758.0  797.0  826.0  850.0   \n",
      "\n",
      "   ...    2007    2008    2009    2010    2011    2012    2013    2014  \\\n",
      "0  ...  1180.0  1200.0  1210.0  1230.0  1250.0  1280.0  1310.0  1350.0   \n",
      "\n",
      "     2015    2016  \n",
      "0  1400.0  1450.0  \n",
      "\n",
      "[1 rows x 28 columns]\n",
      "liver_df        country   1990   1991   1992   1993   1994   1995   1996   1997   1998  \\\n",
      "0  Afghanistan  124.0  134.0  146.0  161.0  176.0  191.0  199.0  206.0  211.0   \n",
      "\n",
      "   ...   2007   2008   2009   2010   2011   2012   2013   2014   2015   2016  \n",
      "0  ...  301.0  312.0  324.0  337.0  350.0  366.0  384.0  402.0  421.0  440.0  \n",
      "\n",
      "[1 rows x 28 columns]\n",
      "prostate_df        country   1990   1991   1992   1993   1994   1995   1996   1997   1998  \\\n",
      "0  Afghanistan  130.0  140.0  152.0  168.0  185.0  201.0  211.0  220.0  226.0   \n",
      "\n",
      "   ...   2007   2008   2009   2010   2011   2012   2013   2014   2015   2016  \n",
      "0  ...  326.0  336.0  347.0  360.0  372.0  386.0  400.0  416.0  432.0  456.0  \n",
      "\n",
      "[1 rows x 28 columns]\n",
      "lung_df        country   1990   1991   1992   1993   1994   1995   1996   1997   1998  \\\n",
      "0  Afghanistan  577.0  621.0  678.0  748.0  822.0  888.0  927.0  955.0  979.0   \n",
      "\n",
      "   ...    2007    2008    2009    2010    2011    2012    2013    2014  \\\n",
      "0  ...  1390.0  1430.0  1460.0  1510.0  1560.0  1620.0  1690.0  1760.0   \n",
      "\n",
      "     2015    2016  \n",
      "0  1840.0  1930.0  \n",
      "\n",
      "[1 rows x 28 columns]\n"
     ]
    }
   ],
   "source": [
    "for name,df in all_dict.items():\n",
    "    print(name, df.head(1)) "
   ]
  },
  {
   "cell_type": "markdown",
   "metadata": {},
   "source": [
    "All files are structured in the same way, a country column and years from 1990 to 2016, This structure is no optimal for making an analysis, let us turn it from wide to long for a better analysis."
   ]
  },
  {
   "cell_type": "code",
   "execution_count": 84,
   "metadata": {},
   "outputs": [
    {
     "data": {
      "text/html": [
       "<div>\n",
       "<style scoped>\n",
       "    .dataframe tbody tr th:only-of-type {\n",
       "        vertical-align: middle;\n",
       "    }\n",
       "\n",
       "    .dataframe tbody tr th {\n",
       "        vertical-align: top;\n",
       "    }\n",
       "\n",
       "    .dataframe thead th {\n",
       "        text-align: right;\n",
       "    }\n",
       "</style>\n",
       "<table border=\"1\" class=\"dataframe\">\n",
       "  <thead>\n",
       "    <tr style=\"text-align: right;\">\n",
       "      <th></th>\n",
       "      <th>country</th>\n",
       "      <th>year</th>\n",
       "      <th>col_rec_deaths</th>\n",
       "      <th>stomach_deaths</th>\n",
       "      <th>liver_deaths</th>\n",
       "      <th>prostate_deaths</th>\n",
       "      <th>lung_deaths</th>\n",
       "    </tr>\n",
       "  </thead>\n",
       "  <tbody>\n",
       "    <tr>\n",
       "      <th>0</th>\n",
       "      <td>Afghanistan</td>\n",
       "      <td>1990</td>\n",
       "      <td>153.00</td>\n",
       "      <td>482.00</td>\n",
       "      <td>124.00</td>\n",
       "      <td>130.00</td>\n",
       "      <td>577.0</td>\n",
       "    </tr>\n",
       "    <tr>\n",
       "      <th>1</th>\n",
       "      <td>Albania</td>\n",
       "      <td>1990</td>\n",
       "      <td>74.20</td>\n",
       "      <td>207.00</td>\n",
       "      <td>149.00</td>\n",
       "      <td>149.00</td>\n",
       "      <td>471.0</td>\n",
       "    </tr>\n",
       "    <tr>\n",
       "      <th>2</th>\n",
       "      <td>Algeria</td>\n",
       "      <td>1990</td>\n",
       "      <td>260.00</td>\n",
       "      <td>650.00</td>\n",
       "      <td>215.00</td>\n",
       "      <td>261.00</td>\n",
       "      <td>1150.0</td>\n",
       "    </tr>\n",
       "    <tr>\n",
       "      <th>3</th>\n",
       "      <td>Andorra</td>\n",
       "      <td>1990</td>\n",
       "      <td>6.72</td>\n",
       "      <td>4.02</td>\n",
       "      <td>1.25</td>\n",
       "      <td>7.16</td>\n",
       "      <td>13.7</td>\n",
       "    </tr>\n",
       "    <tr>\n",
       "      <th>4</th>\n",
       "      <td>Angola</td>\n",
       "      <td>1990</td>\n",
       "      <td>149.00</td>\n",
       "      <td>283.00</td>\n",
       "      <td>302.00</td>\n",
       "      <td>233.00</td>\n",
       "      <td>268.0</td>\n",
       "    </tr>\n",
       "  </tbody>\n",
       "</table>\n",
       "</div>"
      ],
      "text/plain": [
       "       country  year  col_rec_deaths  stomach_deaths  liver_deaths  \\\n",
       "0  Afghanistan  1990          153.00          482.00        124.00   \n",
       "1      Albania  1990           74.20          207.00        149.00   \n",
       "2      Algeria  1990          260.00          650.00        215.00   \n",
       "3      Andorra  1990            6.72            4.02          1.25   \n",
       "4       Angola  1990          149.00          283.00        302.00   \n",
       "\n",
       "   prostate_deaths  lung_deaths  \n",
       "0           130.00        577.0  \n",
       "1           149.00        471.0  \n",
       "2           261.00       1150.0  \n",
       "3             7.16         13.7  \n",
       "4           233.00        268.0  "
      ]
     },
     "execution_count": 84,
     "metadata": {},
     "output_type": "execute_result"
    }
   ],
   "source": [
    "# Transform the files from wide to long\n",
    "def gather(df,value_name:str) -> \"df\": # Define the function gather that will return a dataframe\n",
    "    \"\"\"function to transform and rename the columns \"\"\"\n",
    "   \n",
    "    df = df.melt(id_vars = [\"country\"],var_name = \"year\", value_name = value_name + \"deaths\") # This reshape the data from wide to long, renaming the columns \n",
    "    return df     # A data dataframe is returned\n",
    "\n",
    "# Use the function gather to create \"long\" dataframes\n",
    "list_df = []                                         # Create an empty list to contain the new \"long\" dataframes\n",
    "\n",
    "for name,df in all_dict.items():                     # Use a loop to access all the files in the dictionnary\n",
    "    name = gather(df,name[:-2])                      # Use the gather function, name[:-2] -> removes df from each names\n",
    "    list_df.append(name)                             # Put all the new dataframe in the list \n",
    "    \n",
    "df = reduce(lambda left,right: pd.merge(left,right, on = [\"country\", \"year\"]), list_df) # Use the reduce function to merge all the df in a row\n",
    "\n",
    "df.to_csv(\"files/common_men_cancers_deaths.csv\")   # Write into a csv for future uses\n",
    "df.head()"
   ]
  },
  {
   "cell_type": "code",
   "execution_count": 85,
   "metadata": {},
   "outputs": [
    {
     "name": "stdout",
     "output_type": "stream",
     "text": [
      "<class 'pandas.core.frame.DataFrame'>\n",
      "Int64Index: 5049 entries, 0 to 5048\n",
      "Data columns (total 7 columns):\n",
      "country            5049 non-null object\n",
      "year               5049 non-null object\n",
      "col_rec_deaths     5049 non-null float64\n",
      "stomach_deaths     5049 non-null float64\n",
      "liver_deaths       5049 non-null float64\n",
      "prostate_deaths    5049 non-null float64\n",
      "lung_deaths        5049 non-null float64\n",
      "dtypes: float64(5), object(2)\n",
      "memory usage: 315.6+ KB\n"
     ]
    }
   ],
   "source": [
    "df.info()"
   ]
  },
  {
   "cell_type": "markdown",
   "metadata": {},
   "source": [
    "After putting all the files toghether, we have a file with 5049 rows and 7 columns. There are no missing values as\n",
    "all the variables have the same numbers of rows, but the year variable is a string which is not correct. For the next text we will clean the data.  "
   ]
  },
  {
   "cell_type": "markdown",
   "metadata": {},
   "source": [
    "### Cleaning Data \n",
    "\n",
    "We start cleaning the data turning the string year variable into a numeric variable, precisely an integer."
   ]
  },
  {
   "cell_type": "code",
   "execution_count": 87,
   "metadata": {},
   "outputs": [],
   "source": [
    "df.year = pd.to_numeric(df.year)          # Turn the year variable from string type to int64\n",
    "assert df.year.dtypes == np.dtype(\"int64\")# Check if the type is correct, if no error we are ok"
   ]
  },
  {
   "cell_type": "markdown",
   "metadata": {},
   "source": [
    "As there is no error thrown, we are sure that the year variable type is correctly changed from string to integer."
   ]
  },
  {
   "cell_type": "code",
   "execution_count": 88,
   "metadata": {},
   "outputs": [],
   "source": [
    "assert df.notnull().all().all()          # We confirm that there are no missing values\n",
    "assert (df.iloc[:, 1:] > 0).all().all()  # we confirm that all values are greater than zero"
   ]
  },
  {
   "cell_type": "markdown",
   "metadata": {},
   "source": [
    "At this point we are sure that the data has no missing values, no zero values and all the variables are in\n",
    "the correct type."
   ]
  },
  {
   "cell_type": "markdown",
   "metadata": {},
   "source": [
    "df"
   ]
  },
  {
   "cell_type": "code",
   "execution_count": null,
   "metadata": {},
   "outputs": [],
   "source": [
    "cancers_df.describe()"
   ]
  },
  {
   "cell_type": "code",
   "execution_count": null,
   "metadata": {},
   "outputs": [],
   "source": [
    "cancers_max_plt = cancers_df[cancers_df.lung_deaths == max(cancers_df.lung_deaths)].plot(kind = \"bar\", x = \"year\",figsize = (10,8))\n",
    "plt.xlabel(\"Year\", fontsize = 14)\n",
    "plt.ylabel(\"Number of deaths\", fontsize = 14)\n",
    "plt.legend(fontsize = 18)\n",
    "plt.title(\"China, Cancer deaths in 2016\", fontsize = 16);"
   ]
  },
  {
   "cell_type": "markdown",
   "metadata": {},
   "source": [
    "In 2016, **424000** Men dye of lung cancer just in China which is almost **12** times the number of prostate cancer deaths and almost all the population of Minneapolis city (USA)."
   ]
  },
  {
   "cell_type": "code",
   "execution_count": null,
   "metadata": {},
   "outputs": [],
   "source": [
    "# Main plot: Group cancers_df by year then sum to the have total number of deaths per cancer type\n",
    "cancers_trends = cancers_df.groupby(\"year\").sum().plot(legend = False, color = [\"red\", \"brown\", \"blue\", \"green\"], figsize = (10,8))\n",
    "# Adds a title \n",
    "cancers_trends.text(x = 1, y = 1350000, s = \"Men Cancers Deaths Trends\", fontsize = 18, weight = \"bold\")\n",
    "# Adds a subtitle\n",
    "cancers_trends.text(x = 1, y = 1250000, s = \"Evolution of the number of deaths from 1990 to 2016\\ndue to the 4 most common cancer in Men\",\n",
    "                    fontsize = 16, alpha = 0.7)\n",
    "# Adds the label of each legend on the line\n",
    "cancers_trends.text(x=10, y = 1000000, s = \"lung cancer\", fontsize = 14, rotation = 20, color = \"brown\")\n",
    "cancers_trends.text(x=5, y = 520000, s = \"stomach cancer\",fontsize = 14, color = \"blue\")\n",
    "cancers_trends.text(x=1, y = 400000, s = \"liver cancer\", fontsize = 14, rotation = 14, color = \"red\")\n",
    "cancers_trends.text(x=12, y = 320000, s = \"prostate cancer\", fontsize = 14, rotation = 6, color = \"green\")\n",
    "# Adds a signature bar\n",
    "cancers_trends.text(x = 1, y = 50000, s = \"(c)Furawa                                                                                                Source: Gapminder World\",\n",
    "                   fontsize = 12, backgroundcolor = \"grey\", color = \"white\");"
   ]
  },
  {
   "cell_type": "markdown",
   "metadata": {},
   "source": [
    "The lung Cancer is the one which kills more people over years. In 2016 more than 1 million Men dye of lung cancer \n",
    "over the world. Except the stomach cancer deaths (which is quite stable) all the other types of cancer deaths\n",
    "increase each year. "
   ]
  },
  {
   "cell_type": "code",
   "execution_count": null,
   "metadata": {},
   "outputs": [],
   "source": [
    "world = pd.read_csv(\"files/worldcities.csv\")\n",
    "world_df = world.iloc[:,2:5]\n",
    "world_df.drop_duplicates(subset = \"country\", keep = \"first\", inplace = True)\n",
    "world_df.sort_values(by = \"country\", inplace = True)"
   ]
  },
  {
   "cell_type": "code",
   "execution_count": null,
   "metadata": {},
   "outputs": [],
   "source": [
    "cancers_2016 = cancers_df[cancers_df.year == \"2016\"]\n",
    "cancers_2016.loc[1:,\"total_deaths\"] = cancers_2016.sum(axis = 1)\n",
    "cancers_2016.head()"
   ]
  },
  {
   "cell_type": "code",
   "execution_count": null,
   "metadata": {},
   "outputs": [],
   "source": [
    "world_map = world_df.merge(cancers_2016, how = \"inner\", on = \"country\")"
   ]
  },
  {
   "cell_type": "code",
   "execution_count": null,
   "metadata": {},
   "outputs": [],
   "source": [
    "cancer_map = folium.Map(location = [20,0], tiles = \"Mapbox Bright\", zoom_start = 3)\n",
    "\n",
    "for i in range(0, len(world_map)):\n",
    "    folium.Circle(\n",
    "        location = [world_map.iloc[i][\"lat\"], world_map.iloc[i][\"lng\"]],\n",
    "        popup = world_map.iloc[i][\"country\"],\n",
    "        radius = world_map.iloc[i][\"total_deaths\"]*2,\n",
    "        color = \"purple\",\n",
    "        fill = True,\n",
    "        fill_color = \"purple\"\n",
    "    ).add_to(cancer_map)\n",
    "cancer_map"
   ]
  },
  {
   "cell_type": "markdown",
   "metadata": {},
   "source": [
    "<h2  = \"conclusion\"></a> Conclusions "
   ]
  }
 ],
 "metadata": {
  "kernelspec": {
   "display_name": "investigate",
   "language": "python",
   "name": "investigate_data"
  },
  "language_info": {
   "codemirror_mode": {
    "name": "ipython",
    "version": 3
   },
   "file_extension": ".py",
   "mimetype": "text/x-python",
   "name": "python",
   "nbconvert_exporter": "python",
   "pygments_lexer": "ipython3",
   "version": "3.7.3"
  }
 },
 "nbformat": 4,
 "nbformat_minor": 2
}
