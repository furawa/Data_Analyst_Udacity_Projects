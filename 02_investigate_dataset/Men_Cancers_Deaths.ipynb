{
 "cells": [
  {
   "cell_type": "markdown",
   "metadata": {},
   "source": [
    "# Common Cancers Deaths in Men (1990 - 2016)\n",
    "\n",
    "### Table of Contents  \n",
    "\n",
    "- <a href = \"#summary\">Summary</a>  \n",
    "- <a href = \"#wrangling\">Data Wrangling </a> \n",
    "- <a href = \"#\">Exploratory Data Analysis </a>  \n",
    "- <a href = \"#conclusion\">Conclusions </a>   \n",
    "\n",
    "\n",
    "<h2 id = \"summary\"> Introduction</h2>\n",
    "\n",
    "There are 5 common types of cancer in Men, lung cancer, stomach cancer, liver cancer, prostate cancer and colon&rectum cancer. In 2016, more than **1 million** Men dye of one of this cancer over the world. \n",
    "Which country is affected the most by these cancers? What is the cancer which kill the most? How is the evolution of these deaths since 1990?  \n",
    "In this project we will analyse the data taken from the [Gapminder World](www.gapminder.org) about these 5 types\n",
    "of cancer in Men and try to find and answer to these questions.\n",
    "\n"
   ]
  },
  {
   "cell_type": "code",
   "execution_count": 1,
   "metadata": {},
   "outputs": [],
   "source": [
    "# Imports all the needed packages for the project\n",
    "import pandas as pd                # Imports the package for the dataframes\n",
    "import numpy as np                 # Imports the package for the arrays\n",
    "import matplotlib.style as style   # Imports the package for the plot\n",
    "import folium                      # Imports the package For the world map\n",
    "style.use(\"fivethirtyeight\")       # We use this style for the plots\n",
    "import glob\n",
    "%matplotlib inline                 "
   ]
  },
  {
   "cell_type": "markdown",
   "metadata": {},
   "source": [
    "<h2 id =\"wrangling\">Data Wrangling </h2>  \n",
    "First of all we import all the separated files and gather it in one unique dataset.  \n",
    "\n",
    "### General Properties"
   ]
  },
  {
   "cell_type": "code",
   "execution_count": 48,
   "metadata": {},
   "outputs": [],
   "source": [
    "## Load all the files \n",
    "pattern = \"files/*deaths.csv\"      # Pattern to find all the files that finish with deaths \n",
    "all_files = glob.glob(pattern)     # Uses the pattern to import all the files and then put it in all_files list\n",
    "files_names = [\"col_rec_df\", \"stomach_df\", \"liver_df\", \"prostate_df\", \"lung_df\"] # List of the name of each file\n",
    "all_dict = {}                        # Creates an empty dictionary to store the names and dataframes\n",
    "assert len(all_files) == len(files_names) # Controls if the number of files imported are the same number of names\n",
    "for i in range(len(all_files)):\n",
    "    all_dict[files_names[i]] = pd.read_csv(all_files[i]) # Loads each file gives it the right name and put in the dict \n"
   ]
  },
  {
   "cell_type": "markdown",
   "metadata": {},
   "source": [
    "Now that all the files are loaded with a unique name, let us take a look at the structure of each file."
   ]
  },
  {
   "cell_type": "code",
   "execution_count": 49,
   "metadata": {},
   "outputs": [
    {
     "name": "stdout",
     "output_type": "stream",
     "text": [
      "col_rec_df (187, 28)\n",
      "stomach_df (187, 28)\n",
      "liver_df (187, 28)\n",
      "prostate_df (187, 28)\n",
      "lung_df (187, 28)\n"
     ]
    }
   ],
   "source": [
    "# Cheks all the dataframe shape \n",
    "for name,df in all_df.items(): \n",
    "    print(name, df.shape)       "
   ]
  },
  {
   "cell_type": "markdown",
   "metadata": {},
   "source": [
    "All five dataframes have same shape **187** observations and **28** variables"
   ]
  },
  {
   "cell_type": "code",
   "execution_count": 44,
   "metadata": {},
   "outputs": [
    {
     "name": "stdout",
     "output_type": "stream",
     "text": [
      "col_rec_df        country   1990   1991   1992   1993   1994   1995   1996   1997   1998  \\\n",
      "0  Afghanistan  153.0  165.0  181.0  200.0  219.0  237.0  249.0  258.0  265.0   \n",
      "\n",
      "   ...   2007   2008   2009   2010   2011   2012   2013   2014   2015   2016  \n",
      "0  ...  403.0  418.0  434.0  452.0  470.0  492.0  516.0  543.0  571.0  599.0  \n",
      "\n",
      "[1 rows x 28 columns]\n",
      "stomach_df        country   1990   1991   1992   1993   1994   1995   1996   1997   1998  \\\n",
      "0  Afghanistan  482.0  519.0  568.0  630.0  698.0  758.0  797.0  826.0  850.0   \n",
      "\n",
      "   ...    2007    2008    2009    2010    2011    2012    2013    2014  \\\n",
      "0  ...  1180.0  1200.0  1210.0  1230.0  1250.0  1280.0  1310.0  1350.0   \n",
      "\n",
      "     2015    2016  \n",
      "0  1400.0  1450.0  \n",
      "\n",
      "[1 rows x 28 columns]\n",
      "liver_df        country   1990   1991   1992   1993   1994   1995   1996   1997   1998  \\\n",
      "0  Afghanistan  124.0  134.0  146.0  161.0  176.0  191.0  199.0  206.0  211.0   \n",
      "\n",
      "   ...   2007   2008   2009   2010   2011   2012   2013   2014   2015   2016  \n",
      "0  ...  301.0  312.0  324.0  337.0  350.0  366.0  384.0  402.0  421.0  440.0  \n",
      "\n",
      "[1 rows x 28 columns]\n",
      "prostate_df        country   1990   1991   1992   1993   1994   1995   1996   1997   1998  \\\n",
      "0  Afghanistan  130.0  140.0  152.0  168.0  185.0  201.0  211.0  220.0  226.0   \n",
      "\n",
      "   ...   2007   2008   2009   2010   2011   2012   2013   2014   2015   2016  \n",
      "0  ...  326.0  336.0  347.0  360.0  372.0  386.0  400.0  416.0  432.0  456.0  \n",
      "\n",
      "[1 rows x 28 columns]\n",
      "lung_df        country   1990   1991   1992   1993   1994   1995   1996   1997   1998  \\\n",
      "0  Afghanistan  577.0  621.0  678.0  748.0  822.0  888.0  927.0  955.0  979.0   \n",
      "\n",
      "   ...    2007    2008    2009    2010    2011    2012    2013    2014  \\\n",
      "0  ...  1390.0  1430.0  1460.0  1510.0  1560.0  1620.0  1690.0  1760.0   \n",
      "\n",
      "     2015    2016  \n",
      "0  1840.0  1930.0  \n",
      "\n",
      "[1 rows x 28 columns]\n"
     ]
    }
   ],
   "source": [
    "for name,df in all_df.items():\n",
    "    print(name, df.head(1)) "
   ]
  },
  {
   "cell_type": "markdown",
   "metadata": {},
   "source": [
    "All files are structured in the same way, a country column and years from 1990 to 2016, This structure is no optimal for making an analysis, let us turn it from wide to long for a better analysis."
   ]
  },
  {
   "cell_type": "code",
   "execution_count": 67,
   "metadata": {},
   "outputs": [
    {
     "ename": "AttributeError",
     "evalue": "'list' object has no attribute 'columns'",
     "output_type": "error",
     "traceback": [
      "\u001b[0;31m---------------------------------------------------------------------------\u001b[0m",
      "\u001b[0;31mAttributeError\u001b[0m                            Traceback (most recent call last)",
      "\u001b[0;32m<ipython-input-67-db8565ced773>\u001b[0m in \u001b[0;36m<module>\u001b[0;34m\u001b[0m\n\u001b[1;32m      9\u001b[0m     \u001b[0mname\u001b[0m \u001b[0;34m=\u001b[0m \u001b[0mgather\u001b[0m\u001b[0;34m(\u001b[0m\u001b[0mdf\u001b[0m\u001b[0;34m,\u001b[0m\u001b[0mname\u001b[0m\u001b[0;34m[\u001b[0m\u001b[0;34m:\u001b[0m\u001b[0;34m-\u001b[0m\u001b[0;36m2\u001b[0m\u001b[0;34m]\u001b[0m\u001b[0;34m)\u001b[0m\u001b[0;34m\u001b[0m\u001b[0;34m\u001b[0m\u001b[0m\n\u001b[1;32m     10\u001b[0m     \u001b[0mdfs\u001b[0m\u001b[0;34m.\u001b[0m\u001b[0mappend\u001b[0m\u001b[0;34m(\u001b[0m\u001b[0mname\u001b[0m\u001b[0;34m)\u001b[0m\u001b[0;34m\u001b[0m\u001b[0;34m\u001b[0m\u001b[0m\n\u001b[0;32m---> 11\u001b[0;31m \u001b[0mpd\u001b[0m\u001b[0;34m.\u001b[0m\u001b[0mmelt\u001b[0m\u001b[0;34m(\u001b[0m\u001b[0mdfs\u001b[0m\u001b[0;34m,\u001b[0m \u001b[0mid_vars\u001b[0m \u001b[0;34m=\u001b[0m \u001b[0;34m[\u001b[0m\u001b[0;34m\"country\"\u001b[0m\u001b[0;34m,\u001b[0m \u001b[0;34m\"year\"\u001b[0m\u001b[0;34m]\u001b[0m\u001b[0;34m)\u001b[0m\u001b[0;34m\u001b[0m\u001b[0;34m\u001b[0m\u001b[0m\n\u001b[0m",
      "\u001b[0;32m~/anaconda3/envs/investigate_data/lib/python3.7/site-packages/pandas/core/reshape/melt.py\u001b[0m in \u001b[0;36mmelt\u001b[0;34m(frame, id_vars, value_vars, var_name, value_name, col_level)\u001b[0m\n\u001b[1;32m     28\u001b[0m     \u001b[0;31m# If multiindex, gather names of columns on all level for checking presence\u001b[0m\u001b[0;34m\u001b[0m\u001b[0;34m\u001b[0m\u001b[0;34m\u001b[0m\u001b[0m\n\u001b[1;32m     29\u001b[0m     \u001b[0;31m# of `id_vars` and `value_vars`\u001b[0m\u001b[0;34m\u001b[0m\u001b[0;34m\u001b[0m\u001b[0;34m\u001b[0m\u001b[0m\n\u001b[0;32m---> 30\u001b[0;31m     \u001b[0;32mif\u001b[0m \u001b[0misinstance\u001b[0m\u001b[0;34m(\u001b[0m\u001b[0mframe\u001b[0m\u001b[0;34m.\u001b[0m\u001b[0mcolumns\u001b[0m\u001b[0;34m,\u001b[0m \u001b[0mABCMultiIndex\u001b[0m\u001b[0;34m)\u001b[0m\u001b[0;34m:\u001b[0m\u001b[0;34m\u001b[0m\u001b[0;34m\u001b[0m\u001b[0m\n\u001b[0m\u001b[1;32m     31\u001b[0m         \u001b[0mcols\u001b[0m \u001b[0;34m=\u001b[0m \u001b[0;34m[\u001b[0m\u001b[0mx\u001b[0m \u001b[0;32mfor\u001b[0m \u001b[0mc\u001b[0m \u001b[0;32min\u001b[0m \u001b[0mframe\u001b[0m\u001b[0;34m.\u001b[0m\u001b[0mcolumns\u001b[0m \u001b[0;32mfor\u001b[0m \u001b[0mx\u001b[0m \u001b[0;32min\u001b[0m \u001b[0mc\u001b[0m\u001b[0;34m]\u001b[0m\u001b[0;34m\u001b[0m\u001b[0;34m\u001b[0m\u001b[0m\n\u001b[1;32m     32\u001b[0m     \u001b[0;32melse\u001b[0m\u001b[0;34m:\u001b[0m\u001b[0;34m\u001b[0m\u001b[0;34m\u001b[0m\u001b[0m\n",
      "\u001b[0;31mAttributeError\u001b[0m: 'list' object has no attribute 'columns'"
     ]
    }
   ],
   "source": [
    "# Transform the files from wide to long\n",
    "def gather(df,value_name:str) -> \"df\": # Define the function gather that will return a dataframe\n",
    "    \"\"\"function to transform and rename the columns \"\"\"\n",
    "    # Transform and rename in a row with the melt methods \n",
    "    df = df.melt(id_vars = [\"country\"],var_name = \"year\", value_name = value_name +\"deaths\") \n",
    "    return df\n",
    "dfs = []\n",
    "for name,df in all_df.items():\n",
    "    name = gather(df,name[:-2])\n",
    "    dfs.append(name)\n",
    "pd.concat(dfs, join = \"inner\", axis = 1 )"
   ]
  },
  {
   "cell_type": "code",
   "execution_count": null,
   "metadata": {},
   "outputs": [],
   "source": [
    "# Check the files to see if all is correct \n",
    "prostate_long.info()"
   ]
  },
  {
   "cell_type": "markdown",
   "metadata": {},
   "source": [
    "Now that our file are ok, let put it all together in one unique dataframe"
   ]
  },
  {
   "cell_type": "code",
   "execution_count": null,
   "metadata": {},
   "outputs": [],
   "source": [
    "cancers_df = liver_long  # Create a new dataframe with all the values of liver_long dataframe \n",
    "cancers_df[\"lung_deaths\"] = lung_long.lung_deaths  # Add the new column lung_deaths with its value from lung_long df\n",
    "cancers_df[\"stomach_deaths\"] = stomach_long.stomach_deaths    # Add the new column stomach_deaths with its values from stomach_long df \n",
    "cancers_df[\"prostate_deaths\"] = prostate_long.prostate_deaths #Add the new column prostate_deaths with its values from prostate_long df \n",
    "cancers_df.head()  # Check the first few rows"
   ]
  },
  {
   "cell_type": "code",
   "execution_count": null,
   "metadata": {},
   "outputs": [],
   "source": [
    "# Check the info of the finale data \n",
    "cancers_df.info()"
   ]
  },
  {
   "cell_type": "markdown",
   "metadata": {},
   "source": [
    "Checking the info of the final dataframe, we can see that there are no missing values, the data types are correct\n",
    "we have a clean data. Let's see some statistic to have an overview\n"
   ]
  },
  {
   "cell_type": "code",
   "execution_count": null,
   "metadata": {},
   "outputs": [],
   "source": [
    "cancers_df.describe()"
   ]
  },
  {
   "cell_type": "code",
   "execution_count": null,
   "metadata": {},
   "outputs": [],
   "source": [
    "cancers_max_plt = cancers_df[cancers_df.lung_deaths == max(cancers_df.lung_deaths)].plot(kind = \"bar\", x = \"year\",figsize = (10,8))\n",
    "plt.xlabel(\"Year\", fontsize = 14)\n",
    "plt.ylabel(\"Number of deaths\", fontsize = 14)\n",
    "plt.legend(fontsize = 18)\n",
    "plt.title(\"China, Cancer deaths in 2016\", fontsize = 16);"
   ]
  },
  {
   "cell_type": "markdown",
   "metadata": {},
   "source": [
    "In 2016, **424000** Men dye of lung cancer just in China which is almost **12** times the number of prostate cancer deaths and almost all the population of Minneapolis city (USA)."
   ]
  },
  {
   "cell_type": "code",
   "execution_count": null,
   "metadata": {},
   "outputs": [],
   "source": [
    "# Main plot: Group cancers_df by year then sum to the have total number of deaths per cancer type\n",
    "cancers_trends = cancers_df.groupby(\"year\").sum().plot(legend = False, color = [\"red\", \"brown\", \"blue\", \"green\"], figsize = (10,8))\n",
    "# Adds a title \n",
    "cancers_trends.text(x = 1, y = 1350000, s = \"Men Cancers Deaths Trends\", fontsize = 18, weight = \"bold\")\n",
    "# Adds a subtitle\n",
    "cancers_trends.text(x = 1, y = 1250000, s = \"Evolution of the number of deaths from 1990 to 2016\\ndue to the 4 most common cancer in Men\",\n",
    "                    fontsize = 16, alpha = 0.7)\n",
    "# Adds the label of each legend on the line\n",
    "cancers_trends.text(x=10, y = 1000000, s = \"lung cancer\", fontsize = 14, rotation = 20, color = \"brown\")\n",
    "cancers_trends.text(x=5, y = 520000, s = \"stomach cancer\",fontsize = 14, color = \"blue\")\n",
    "cancers_trends.text(x=1, y = 400000, s = \"liver cancer\", fontsize = 14, rotation = 14, color = \"red\")\n",
    "cancers_trends.text(x=12, y = 320000, s = \"prostate cancer\", fontsize = 14, rotation = 6, color = \"green\")\n",
    "# Adds a signature bar\n",
    "cancers_trends.text(x = 1, y = 50000, s = \"(c)Furawa                                                                                                Source: Gapminder World\",\n",
    "                   fontsize = 12, backgroundcolor = \"grey\", color = \"white\");"
   ]
  },
  {
   "cell_type": "markdown",
   "metadata": {},
   "source": [
    "The lung Cancer is the one which kills more people over years. In 2016 more than 1 million Men dye of lung cancer \n",
    "over the world. Except the stomach cancer deaths (which is quite stable) all the other types of cancer deaths\n",
    "increase each year. "
   ]
  },
  {
   "cell_type": "code",
   "execution_count": null,
   "metadata": {},
   "outputs": [],
   "source": [
    "world = pd.read_csv(\"files/worldcities.csv\")\n",
    "world_df = world.iloc[:,2:5]\n",
    "world_df.drop_duplicates(subset = \"country\", keep = \"first\", inplace = True)\n",
    "world_df.sort_values(by = \"country\", inplace = True)"
   ]
  },
  {
   "cell_type": "code",
   "execution_count": null,
   "metadata": {},
   "outputs": [],
   "source": [
    "cancers_2016 = cancers_df[cancers_df.year == \"2016\"]\n",
    "cancers_2016.loc[1:,\"total_deaths\"] = cancers_2016.sum(axis = 1)\n",
    "cancers_2016.head()"
   ]
  },
  {
   "cell_type": "code",
   "execution_count": null,
   "metadata": {},
   "outputs": [],
   "source": [
    "world_map = world_df.merge(cancers_2016, how = \"inner\", on = \"country\")"
   ]
  },
  {
   "cell_type": "code",
   "execution_count": null,
   "metadata": {},
   "outputs": [],
   "source": [
    "cancer_map = folium.Map(location = [20,0], tiles = \"Mapbox Bright\", zoom_start = 3)\n",
    "\n",
    "for i in range(0, len(world_map)):\n",
    "    folium.Circle(\n",
    "        location = [world_map.iloc[i][\"lat\"], world_map.iloc[i][\"lng\"]],\n",
    "        popup = world_map.iloc[i][\"country\"],\n",
    "        radius = world_map.iloc[i][\"total_deaths\"]*2,\n",
    "        color = \"purple\",\n",
    "        fill = True,\n",
    "        fill_color = \"purple\"\n",
    "    ).add_to(cancer_map)\n",
    "cancer_map"
   ]
  },
  {
   "cell_type": "markdown",
   "metadata": {},
   "source": [
    "<h2 id = \"conclusion\"> Conclusions </h2>"
   ]
  }
 ],
 "metadata": {
  "kernelspec": {
   "display_name": "investigate",
   "language": "python",
   "name": "investigate_data"
  },
  "language_info": {
   "codemirror_mode": {
    "name": "ipython",
    "version": 3
   },
   "file_extension": ".py",
   "mimetype": "text/x-python",
   "name": "python",
   "nbconvert_exporter": "python",
   "pygments_lexer": "ipython3",
   "version": "3.7.3"
  }
 },
 "nbformat": 4,
 "nbformat_minor": 2
}
