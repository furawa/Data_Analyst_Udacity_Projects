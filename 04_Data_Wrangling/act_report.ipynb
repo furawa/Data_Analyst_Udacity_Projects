{
 "cells": [
  {
   "cell_type": "markdown",
   "metadata": {},
   "source": [
    "# We Rate Dogs  \n",
    "\n",
    "<img src = 'images/dog.jpg' alt = 'A dog Face'>"
   ]
  },
  {
   "cell_type": "markdown",
   "metadata": {},
   "source": [
    "## Documentation of Analysis and Insights  \n",
    "\n",
    "### Introduction  \n",
    "\n",
    "In a previous file `wrangle_report.pdf` we listed the steps for the wrangling process of the weRateDogs Twitter archive. After gathering the data from 3 differents sources, we access it and then cleaning it following the steps learning in Udacity courses. We store the final cleaned file as a master file that we used for making the following analysis.  \n",
    "\n",
    "###  Insights  \n",
    "\n",
    "Some insights we discovered when analyzing the file.  \n",
    "\n",
    "#### Top 10 famous names of dogs  \n",
    "We found that the most famous names of dogs in the data are Oliver, Cooper and Charlie but we also found that they are many tweets without names of dogs.  "
   ]
  },
  {
   "cell_type": "markdown",
   "metadata": {},
   "source": [
    "<img src = 'images/top_10_names.png' alt = 'Plot Names of dogs'>"
   ]
  },
  {
   "cell_type": "markdown",
   "metadata": {},
   "source": [
    "####  Top 10 Breeds with confidence prediction higher than 0.8  "
   ]
  },
  {
   "cell_type": "markdown",
   "metadata": {},
   "source": [
    "<img src = 'images/plot.png' alt = 'plot of top 10 breeds'>"
   ]
  },
  {
   "cell_type": "markdown",
   "metadata": {},
   "source": [
    "The Golden Retriever is the breed with most preditions with confidence higher than 0.8, follow by Pembroke and Pug.  "
   ]
  },
  {
   "cell_type": "markdown",
   "metadata": {},
   "source": [
    "<figure>\n",
    "    <img src = 'images/golden_retriever.jpg' alt = 'A golden retriver' width =200, height =200 />  \n",
    "    <img src = 'images/pembroke.jpg' alt = 'A Pembroke' width =200, height =200 /> \n",
    "    <img src = 'images/pug.jpg' alt = 'A Pug' width =200, height =200 /> \n",
    "    <figcaption><b>From top Golden Retriever, a Pembroke and a Pug from <a href = 'https://twitter.com/dog_rates'>weRateDogs</a></b>.</figcaption>\n",
    "</figure>"
   ]
  },
  {
   "cell_type": "markdown",
   "metadata": {},
   "source": [
    "####  Most famous rated dog  \n",
    "The most famous rated dog is Atticus with a rating of 1776/10. "
   ]
  },
  {
   "cell_type": "markdown",
   "metadata": {},
   "source": [
    "<figure>\n",
    "    <img src = 'images/famous.jpg' alt = 'Atticus the usa dog' width =400, height =400 />  \n",
    "    <figcaption>This is Atticus, ready for the USA independance day</b>.</figcaption>\n",
    "</figure>"
   ]
  },
  {
   "cell_type": "markdown",
   "metadata": {},
   "source": [
    "####  Breeds with the higest favorite count  \n",
    "The Labrador Retriever is the Breed with the highest favorite count(160996), followed by Lakeland Terrier and Chihuahua."
   ]
  },
  {
   "cell_type": "markdown",
   "metadata": {},
   "source": [
    "<img src ='images/breeds.png' alt = 'Plot of the breeds with highest favorite count'>"
   ]
  },
  {
   "cell_type": "markdown",
   "metadata": {},
   "source": [
    "#### Not always dogs  \n",
    "Not all the predictions are correct for example in the previous plot we have an Arabian Camel, and there is really \n",
    "a Camel between the images of the dataframe."
   ]
  },
  {
   "cell_type": "markdown",
   "metadata": {},
   "source": [
    "#### <img src = 'images/camel.jpg' alt = 'A camel' width = 400 height = 400>  \n",
    "\n",
    "In this case for example the prediction was correct not to be a dog, but the tweet was rating it as a dog just for \n",
    "fun as this camel in fact seems to be a dog with bumps"
   ]
  }
 ],
 "metadata": {
  "kernelspec": {
   "display_name": "investigate",
   "language": "python",
   "name": "investigate_data"
  },
  "language_info": {
   "codemirror_mode": {
    "name": "ipython",
    "version": 3
   },
   "file_extension": ".py",
   "mimetype": "text/x-python",
   "name": "python",
   "nbconvert_exporter": "python",
   "pygments_lexer": "ipython3",
   "version": "3.7.3"
  }
 },
 "nbformat": 4,
 "nbformat_minor": 2
}
