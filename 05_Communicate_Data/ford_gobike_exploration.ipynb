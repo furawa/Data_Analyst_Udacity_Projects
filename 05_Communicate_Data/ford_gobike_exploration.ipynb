{
 "cells": [
  {
   "cell_type": "markdown",
   "metadata": {},
   "source": [
    "# Ford GoBike System Data Flights Exploration\n",
    "## by *Furawa*\n",
    "\n",
    "## Data Wrangling\n",
    "\n",
    "The Ford GoBike System Data Flights includes information about individual rides made in a bike-sharing system covering the greater San Francisco Bay area.  We will use the datasets of all the year 2018 which are divided in 12 separated datasets(1 dataset for each month of the year). \n",
    "We will download all the 12 datasets for the year 2018, gather them all together in one unique dataset, assess it and clean it if necessary. \n",
    "First of all let us import libraries useful for the process.  "
   ]
  },
  {
   "cell_type": "code",
   "execution_count": 1,
   "metadata": {},
   "outputs": [],
   "source": [
    "# Import libraries\n",
    "import numpy as np\n",
    "import pandas as pd\n",
    "import seaborn as sb\n",
    "import matplotlib.pyplot as plt  \n",
    "import requests\n",
    "import os\n",
    "import zipfile\n",
    "import re\n",
    "import datetime\n",
    "\n",
    "%matplotlib inline"
   ]
  },
  {
   "cell_type": "markdown",
   "metadata": {},
   "source": [
    "Let us retrieve all the urls from the [Bay Wheels trip history data](https://s3.amazonaws.com/baywheels-data/index.html)."
   ]
  },
  {
   "cell_type": "code",
   "execution_count": 2,
   "metadata": {},
   "outputs": [
    {
     "data": {
      "text/plain": [
       "['https://s3.amazonaws.com/baywheels-data/201801-fordgobike-tripdata.csv.zip',\n",
       " 'https://s3.amazonaws.com/baywheels-data/201802-fordgobike-tripdata.csv.zip',\n",
       " 'https://s3.amazonaws.com/baywheels-data/201803-fordgobike-tripdata.csv.zip',\n",
       " 'https://s3.amazonaws.com/baywheels-data/201804-fordgobike-tripdata.csv.zip',\n",
       " 'https://s3.amazonaws.com/baywheels-data/201805-fordgobike-tripdata.csv.zip',\n",
       " 'https://s3.amazonaws.com/baywheels-data/201806-fordgobike-tripdata.csv.zip',\n",
       " 'https://s3.amazonaws.com/baywheels-data/201807-fordgobike-tripdata.csv.zip',\n",
       " 'https://s3.amazonaws.com/baywheels-data/201808-fordgobike-tripdata.csv.zip',\n",
       " 'https://s3.amazonaws.com/baywheels-data/201809-fordgobike-tripdata.csv.zip',\n",
       " 'https://s3.amazonaws.com/baywheels-data/201810-fordgobike-tripdata.csv.zip',\n",
       " 'https://s3.amazonaws.com/baywheels-data/201811-fordgobike-tripdata.csv.zip',\n",
       " 'https://s3.amazonaws.com/baywheels-data/201812-fordgobike-tripdata.csv.zip']"
      ]
     },
     "execution_count": 2,
     "metadata": {},
     "output_type": "execute_result"
    }
   ],
   "source": [
    "# Create an empty list to store the urls\n",
    "baywheels_urls = []\n",
    "# Create a for loop to retrieve the urls one by one, there are 12\n",
    "for i in range(1,13):\n",
    "    # Remove the 0 (after 2018) after the 9th file\n",
    "    if i < 10:\n",
    "        url = 'https://s3.amazonaws.com/baywheels-data/20180' + str(i) +'-fordgobike-tripdata.csv.zip'\n",
    "    else:\n",
    "        url = 'https://s3.amazonaws.com/baywheels-data/2018' + str(i) +'-fordgobike-tripdata.csv.zip'\n",
    "    baywheels_urls.append(url)\n",
    "baywheels_urls"
   ]
  },
  {
   "cell_type": "markdown",
   "metadata": {},
   "source": [
    "Now we download all the zip files from the urls and store them in the created folder.  "
   ]
  },
  {
   "cell_type": "code",
   "execution_count": 4,
   "metadata": {},
   "outputs": [
    {
     "data": {
      "text/plain": [
       "['201801-fordgobike-tripdata.csv.zip',\n",
       " '201802-fordgobike-tripdata.csv.zip',\n",
       " '201803-fordgobike-tripdata.csv.zip',\n",
       " '201804-fordgobike-tripdata.csv.zip',\n",
       " '201805-fordgobike-tripdata.csv.zip',\n",
       " '201806-fordgobike-tripdata.csv.zip',\n",
       " '201807-fordgobike-tripdata.csv.zip',\n",
       " '201808-fordgobike-tripdata.csv.zip',\n",
       " '201809-fordgobike-tripdata.csv.zip',\n",
       " '201810-fordgobike-tripdata.csv.zip',\n",
       " '201811-fordgobike-tripdata.csv.zip',\n",
       " '201812-fordgobike-tripdata.csv.zip']"
      ]
     },
     "execution_count": 4,
     "metadata": {},
     "output_type": "execute_result"
    }
   ],
   "source": [
    "zip_folder = 'baywheels_monthly_data_zip'   # folder to store the zip files\n",
    "# Create zip_folder if it does not exist\n",
    "if not os.path.exists(zip_folder):\n",
    "    os.makedirs(zip_folder)\n",
    "    \n",
    "# Download each zip file from the urls with a for loop\n",
    "for url in baywheels_urls:  \n",
    "    response = requests.get(url)\n",
    "    # Retrieve programmatically the name of the file which is the last part after /\n",
    "    with open(os.path.join(zip_folder, url.split('/')[-1]), mode = 'wb') as file:\n",
    "        file.write(response.content)\n",
    "sorted(os.listdir(zip_folder))"
   ]
  },
  {
   "cell_type": "markdown",
   "metadata": {},
   "source": [
    "All the zip files are in the folder, we can proceed and unzip them.  "
   ]
  },
  {
   "cell_type": "code",
   "execution_count": 5,
   "metadata": {},
   "outputs": [],
   "source": [
    "csv_folder = 'baywheels_monthly_data_csv'   # folder to store the unzip csv files\n",
    "# Create csv_folder\n",
    "if not os.path.exists(csv_folder):\n",
    "    os.makedirs(csv_folder)\n",
    "    \n",
    "import glob\n",
    "files = glob.glob(zip_folder+'/*.zip')\n",
    "for file in files:\n",
    "    with zipfile.ZipFile(file, 'r') as my_zip:\n",
    "        my_zip.extractall(csv_folder)"
   ]
  },
  {
   "cell_type": "code",
   "execution_count": 7,
   "metadata": {},
   "outputs": [
    {
     "data": {
      "text/plain": [
       "['201801-fordgobike-tripdata.csv',\n",
       " '201802-fordgobike-tripdata.csv',\n",
       " '201803-fordgobike-tripdata.csv',\n",
       " '201804-fordgobike-tripdata.csv',\n",
       " '201805-fordgobike-tripdata.csv',\n",
       " '201806-fordgobike-tripdata.csv',\n",
       " '201807-fordgobike-tripdata.csv',\n",
       " '201808-fordgobike-tripdata.csv',\n",
       " '201809-fordgobike-tripdata.csv',\n",
       " '201810-fordgobike-tripdata.csv',\n",
       " '201811-fordgobike-tripdata.csv',\n",
       " '201812-fordgobike-tripdata.csv']"
      ]
     },
     "execution_count": 7,
     "metadata": {},
     "output_type": "execute_result"
    }
   ],
   "source": [
    "sorted(os.listdir(csv_folder))"
   ]
  },
  {
   "cell_type": "code",
   "execution_count": 6,
   "metadata": {},
   "outputs": [
    {
     "name": "stdout",
     "output_type": "stream",
     "text": [
      "duration_sec                 int64\n",
      "start_time                  object\n",
      "end_time                    object\n",
      "start_station_id             int64\n",
      "start_station_name          object\n",
      "start_station_latitude     float64\n",
      "start_station_longitude    float64\n",
      "end_station_id               int64\n",
      "end_station_name            object\n",
      "end_station_latitude       float64\n",
      "end_station_longitude      float64\n",
      "bike_id                      int64\n",
      "user_type                   object\n",
      "member_birth_year          float64\n",
      "member_gender               object\n",
      "bike_share_for_all_trip     object\n",
      "dtype: object\n"
     ]
    },
    {
     "data": {
      "text/html": [
       "<div>\n",
       "<style scoped>\n",
       "    .dataframe tbody tr th:only-of-type {\n",
       "        vertical-align: middle;\n",
       "    }\n",
       "\n",
       "    .dataframe tbody tr th {\n",
       "        vertical-align: top;\n",
       "    }\n",
       "\n",
       "    .dataframe thead th {\n",
       "        text-align: right;\n",
       "    }\n",
       "</style>\n",
       "<table border=\"1\" class=\"dataframe\">\n",
       "  <thead>\n",
       "    <tr style=\"text-align: right;\">\n",
       "      <th></th>\n",
       "      <th>duration_sec</th>\n",
       "      <th>start_time</th>\n",
       "      <th>end_time</th>\n",
       "      <th>start_station_id</th>\n",
       "      <th>start_station_name</th>\n",
       "      <th>start_station_latitude</th>\n",
       "      <th>start_station_longitude</th>\n",
       "      <th>end_station_id</th>\n",
       "      <th>end_station_name</th>\n",
       "      <th>end_station_latitude</th>\n",
       "      <th>end_station_longitude</th>\n",
       "      <th>bike_id</th>\n",
       "      <th>user_type</th>\n",
       "      <th>member_birth_year</th>\n",
       "      <th>member_gender</th>\n",
       "      <th>bike_share_for_all_trip</th>\n",
       "    </tr>\n",
       "  </thead>\n",
       "  <tbody>\n",
       "    <tr>\n",
       "      <th>1365</th>\n",
       "      <td>778</td>\n",
       "      <td>2018-01-31 17:24:45.8050</td>\n",
       "      <td>2018-01-31 17:37:44.4920</td>\n",
       "      <td>67</td>\n",
       "      <td>San Francisco Caltrain Station 2  (Townsend St...</td>\n",
       "      <td>37.776639</td>\n",
       "      <td>-122.395526</td>\n",
       "      <td>22</td>\n",
       "      <td>Howard St at Beale St</td>\n",
       "      <td>37.789756</td>\n",
       "      <td>-122.394643</td>\n",
       "      <td>326</td>\n",
       "      <td>Subscriber</td>\n",
       "      <td>1942.0</td>\n",
       "      <td>Male</td>\n",
       "      <td>No</td>\n",
       "    </tr>\n",
       "    <tr>\n",
       "      <th>74906</th>\n",
       "      <td>245</td>\n",
       "      <td>2018-01-09 18:47:30.6920</td>\n",
       "      <td>2018-01-09 18:51:35.7450</td>\n",
       "      <td>21</td>\n",
       "      <td>Montgomery St BART Station (Market St at 2nd St)</td>\n",
       "      <td>37.789625</td>\n",
       "      <td>-122.400811</td>\n",
       "      <td>37</td>\n",
       "      <td>2nd St at Folsom St</td>\n",
       "      <td>37.785000</td>\n",
       "      <td>-122.395936</td>\n",
       "      <td>3139</td>\n",
       "      <td>Subscriber</td>\n",
       "      <td>NaN</td>\n",
       "      <td>NaN</td>\n",
       "      <td>No</td>\n",
       "    </tr>\n",
       "    <tr>\n",
       "      <th>8192</th>\n",
       "      <td>398</td>\n",
       "      <td>2018-01-30 08:49:17.7210</td>\n",
       "      <td>2018-01-30 08:55:56.3890</td>\n",
       "      <td>162</td>\n",
       "      <td>Franklin St at 9th St</td>\n",
       "      <td>37.800516</td>\n",
       "      <td>-122.272080</td>\n",
       "      <td>337</td>\n",
       "      <td>Webster St at 19th St</td>\n",
       "      <td>37.806970</td>\n",
       "      <td>-122.266588</td>\n",
       "      <td>3625</td>\n",
       "      <td>Subscriber</td>\n",
       "      <td>1985.0</td>\n",
       "      <td>Female</td>\n",
       "      <td>No</td>\n",
       "    </tr>\n",
       "    <tr>\n",
       "      <th>21626</th>\n",
       "      <td>210</td>\n",
       "      <td>2018-01-26 08:09:59.0470</td>\n",
       "      <td>2018-01-26 08:13:29.3120</td>\n",
       "      <td>133</td>\n",
       "      <td>Valencia St at 22nd St</td>\n",
       "      <td>37.755213</td>\n",
       "      <td>-122.420975</td>\n",
       "      <td>141</td>\n",
       "      <td>Valencia St at Cesar Chavez St</td>\n",
       "      <td>37.747998</td>\n",
       "      <td>-122.420219</td>\n",
       "      <td>2079</td>\n",
       "      <td>Subscriber</td>\n",
       "      <td>1983.0</td>\n",
       "      <td>Female</td>\n",
       "      <td>No</td>\n",
       "    </tr>\n",
       "    <tr>\n",
       "      <th>21310</th>\n",
       "      <td>572</td>\n",
       "      <td>2018-01-26 08:46:14.2840</td>\n",
       "      <td>2018-01-26 08:55:47.1430</td>\n",
       "      <td>81</td>\n",
       "      <td>Berry St at 4th St</td>\n",
       "      <td>37.775880</td>\n",
       "      <td>-122.393170</td>\n",
       "      <td>23</td>\n",
       "      <td>The Embarcadero at Steuart St</td>\n",
       "      <td>37.791464</td>\n",
       "      <td>-122.391034</td>\n",
       "      <td>1021</td>\n",
       "      <td>Subscriber</td>\n",
       "      <td>1984.0</td>\n",
       "      <td>Male</td>\n",
       "      <td>No</td>\n",
       "    </tr>\n",
       "    <tr>\n",
       "      <th>94065</th>\n",
       "      <td>1444</td>\n",
       "      <td>2018-01-01 14:57:56.8420</td>\n",
       "      <td>2018-01-01 15:22:00.9540</td>\n",
       "      <td>119</td>\n",
       "      <td>18th St at Noe St</td>\n",
       "      <td>37.761047</td>\n",
       "      <td>-122.432642</td>\n",
       "      <td>146</td>\n",
       "      <td>30th St at San Jose Ave</td>\n",
       "      <td>37.742314</td>\n",
       "      <td>-122.423180</td>\n",
       "      <td>3492</td>\n",
       "      <td>Customer</td>\n",
       "      <td>1990.0</td>\n",
       "      <td>Female</td>\n",
       "      <td>No</td>\n",
       "    </tr>\n",
       "  </tbody>\n",
       "</table>\n",
       "</div>"
      ],
      "text/plain": [
       "       duration_sec                start_time                  end_time  \\\n",
       "1365            778  2018-01-31 17:24:45.8050  2018-01-31 17:37:44.4920   \n",
       "74906           245  2018-01-09 18:47:30.6920  2018-01-09 18:51:35.7450   \n",
       "8192            398  2018-01-30 08:49:17.7210  2018-01-30 08:55:56.3890   \n",
       "21626           210  2018-01-26 08:09:59.0470  2018-01-26 08:13:29.3120   \n",
       "21310           572  2018-01-26 08:46:14.2840  2018-01-26 08:55:47.1430   \n",
       "94065          1444  2018-01-01 14:57:56.8420  2018-01-01 15:22:00.9540   \n",
       "\n",
       "       start_station_id                                 start_station_name  \\\n",
       "1365                 67  San Francisco Caltrain Station 2  (Townsend St...   \n",
       "74906                21   Montgomery St BART Station (Market St at 2nd St)   \n",
       "8192                162                              Franklin St at 9th St   \n",
       "21626               133                             Valencia St at 22nd St   \n",
       "21310                81                                 Berry St at 4th St   \n",
       "94065               119                                  18th St at Noe St   \n",
       "\n",
       "       start_station_latitude  start_station_longitude  end_station_id  \\\n",
       "1365                37.776639              -122.395526              22   \n",
       "74906               37.789625              -122.400811              37   \n",
       "8192                37.800516              -122.272080             337   \n",
       "21626               37.755213              -122.420975             141   \n",
       "21310               37.775880              -122.393170              23   \n",
       "94065               37.761047              -122.432642             146   \n",
       "\n",
       "                     end_station_name  end_station_latitude  \\\n",
       "1365            Howard St at Beale St             37.789756   \n",
       "74906             2nd St at Folsom St             37.785000   \n",
       "8192            Webster St at 19th St             37.806970   \n",
       "21626  Valencia St at Cesar Chavez St             37.747998   \n",
       "21310   The Embarcadero at Steuart St             37.791464   \n",
       "94065         30th St at San Jose Ave             37.742314   \n",
       "\n",
       "       end_station_longitude  bike_id   user_type  member_birth_year  \\\n",
       "1365             -122.394643      326  Subscriber             1942.0   \n",
       "74906            -122.395936     3139  Subscriber                NaN   \n",
       "8192             -122.266588     3625  Subscriber             1985.0   \n",
       "21626            -122.420219     2079  Subscriber             1983.0   \n",
       "21310            -122.391034     1021  Subscriber             1984.0   \n",
       "94065            -122.423180     3492    Customer             1990.0   \n",
       "\n",
       "      member_gender bike_share_for_all_trip  \n",
       "1365           Male                      No  \n",
       "74906           NaN                      No  \n",
       "8192         Female                      No  \n",
       "21626        Female                      No  \n",
       "21310          Male                      No  \n",
       "94065        Female                      No  "
      ]
     },
     "execution_count": 6,
     "metadata": {},
     "output_type": "execute_result"
    }
   ],
   "source": [
    "# Read one file to see if everything is ok\n",
    "test = pd.read_csv('baywheels_monthly_data_csv/201801-fordgobike-tripdata.csv')\n",
    "test.shape\n",
    "print(test.dtypes)\n",
    "test.sample(6)"
   ]
  },
  {
   "cell_type": "markdown",
   "metadata": {},
   "source": [
    "Now that we have all the files we can read them and join them together in a unique dataframe."
   ]
  },
  {
   "cell_type": "code",
   "execution_count": 7,
   "metadata": {},
   "outputs": [],
   "source": [
    "# Select all the files in the csv_folder and store them in a list\n",
    "list_files = glob.glob(csv_folder+'/*.csv')\n",
    "# Read all the files of the list and put them all in one unique file\n",
    "baywheels_data = pd.concat(map(pd.read_csv, list_files))"
   ]
  },
  {
   "cell_type": "code",
   "execution_count": 8,
   "metadata": {},
   "outputs": [
    {
     "name": "stdout",
     "output_type": "stream",
     "text": [
      "(1863721, 16)\n",
      "duration_sec                 int64\n",
      "start_time                  object\n",
      "end_time                    object\n",
      "start_station_id           float64\n",
      "start_station_name          object\n",
      "start_station_latitude     float64\n",
      "start_station_longitude    float64\n",
      "end_station_id             float64\n",
      "end_station_name            object\n",
      "end_station_latitude       float64\n",
      "end_station_longitude      float64\n",
      "bike_id                      int64\n",
      "user_type                   object\n",
      "member_birth_year          float64\n",
      "member_gender               object\n",
      "bike_share_for_all_trip     object\n",
      "dtype: object\n"
     ]
    },
    {
     "data": {
      "text/html": [
       "<div>\n",
       "<style scoped>\n",
       "    .dataframe tbody tr th:only-of-type {\n",
       "        vertical-align: middle;\n",
       "    }\n",
       "\n",
       "    .dataframe tbody tr th {\n",
       "        vertical-align: top;\n",
       "    }\n",
       "\n",
       "    .dataframe thead th {\n",
       "        text-align: right;\n",
       "    }\n",
       "</style>\n",
       "<table border=\"1\" class=\"dataframe\">\n",
       "  <thead>\n",
       "    <tr style=\"text-align: right;\">\n",
       "      <th></th>\n",
       "      <th>duration_sec</th>\n",
       "      <th>start_time</th>\n",
       "      <th>end_time</th>\n",
       "      <th>start_station_id</th>\n",
       "      <th>start_station_name</th>\n",
       "      <th>start_station_latitude</th>\n",
       "      <th>start_station_longitude</th>\n",
       "      <th>end_station_id</th>\n",
       "      <th>end_station_name</th>\n",
       "      <th>end_station_latitude</th>\n",
       "      <th>end_station_longitude</th>\n",
       "      <th>bike_id</th>\n",
       "      <th>user_type</th>\n",
       "      <th>member_birth_year</th>\n",
       "      <th>member_gender</th>\n",
       "      <th>bike_share_for_all_trip</th>\n",
       "    </tr>\n",
       "  </thead>\n",
       "  <tbody>\n",
       "    <tr>\n",
       "      <th>0</th>\n",
       "      <td>71766</td>\n",
       "      <td>2018-03-31 16:58:33.1490</td>\n",
       "      <td>2018-04-01 12:54:39.2630</td>\n",
       "      <td>4.0</td>\n",
       "      <td>Cyril Magnin St at Ellis St</td>\n",
       "      <td>37.785881</td>\n",
       "      <td>-122.408915</td>\n",
       "      <td>6.0</td>\n",
       "      <td>The Embarcadero at Sansome St</td>\n",
       "      <td>37.804770</td>\n",
       "      <td>-122.403234</td>\n",
       "      <td>341</td>\n",
       "      <td>Customer</td>\n",
       "      <td>1964.0</td>\n",
       "      <td>Female</td>\n",
       "      <td>No</td>\n",
       "    </tr>\n",
       "    <tr>\n",
       "      <th>1</th>\n",
       "      <td>62569</td>\n",
       "      <td>2018-03-31 19:03:35.9160</td>\n",
       "      <td>2018-04-01 12:26:25.0350</td>\n",
       "      <td>78.0</td>\n",
       "      <td>Folsom St at 9th St</td>\n",
       "      <td>37.773717</td>\n",
       "      <td>-122.411647</td>\n",
       "      <td>47.0</td>\n",
       "      <td>4th St at Harrison St</td>\n",
       "      <td>37.780955</td>\n",
       "      <td>-122.399749</td>\n",
       "      <td>536</td>\n",
       "      <td>Subscriber</td>\n",
       "      <td>1984.0</td>\n",
       "      <td>Male</td>\n",
       "      <td>No</td>\n",
       "    </tr>\n",
       "    <tr>\n",
       "      <th>2</th>\n",
       "      <td>56221</td>\n",
       "      <td>2018-03-31 20:13:13.5640</td>\n",
       "      <td>2018-04-01 11:50:14.8400</td>\n",
       "      <td>258.0</td>\n",
       "      <td>University Ave at Oxford St</td>\n",
       "      <td>37.872355</td>\n",
       "      <td>-122.266447</td>\n",
       "      <td>239.0</td>\n",
       "      <td>Bancroft Way at Telegraph Ave</td>\n",
       "      <td>37.868813</td>\n",
       "      <td>-122.258764</td>\n",
       "      <td>3245</td>\n",
       "      <td>Customer</td>\n",
       "      <td>1983.0</td>\n",
       "      <td>Male</td>\n",
       "      <td>No</td>\n",
       "    </tr>\n",
       "    <tr>\n",
       "      <th>3</th>\n",
       "      <td>85844</td>\n",
       "      <td>2018-03-31 11:28:07.6580</td>\n",
       "      <td>2018-04-01 11:18:52.6130</td>\n",
       "      <td>186.0</td>\n",
       "      <td>Lakeside Dr at 14th St</td>\n",
       "      <td>37.801319</td>\n",
       "      <td>-122.262642</td>\n",
       "      <td>340.0</td>\n",
       "      <td>Harmon St at Adeline St</td>\n",
       "      <td>37.849735</td>\n",
       "      <td>-122.270582</td>\n",
       "      <td>3722</td>\n",
       "      <td>Customer</td>\n",
       "      <td>NaN</td>\n",
       "      <td>NaN</td>\n",
       "      <td>No</td>\n",
       "    </tr>\n",
       "    <tr>\n",
       "      <th>4</th>\n",
       "      <td>1566</td>\n",
       "      <td>2018-03-31 23:37:56.6400</td>\n",
       "      <td>2018-04-01 00:04:02.8930</td>\n",
       "      <td>193.0</td>\n",
       "      <td>Grand Ave at Santa Clara Ave</td>\n",
       "      <td>37.812744</td>\n",
       "      <td>-122.247215</td>\n",
       "      <td>196.0</td>\n",
       "      <td>Grand Ave at Perkins St</td>\n",
       "      <td>37.808894</td>\n",
       "      <td>-122.256460</td>\n",
       "      <td>2355</td>\n",
       "      <td>Subscriber</td>\n",
       "      <td>1979.0</td>\n",
       "      <td>Male</td>\n",
       "      <td>No</td>\n",
       "    </tr>\n",
       "  </tbody>\n",
       "</table>\n",
       "</div>"
      ],
      "text/plain": [
       "   duration_sec                start_time                  end_time  \\\n",
       "0         71766  2018-03-31 16:58:33.1490  2018-04-01 12:54:39.2630   \n",
       "1         62569  2018-03-31 19:03:35.9160  2018-04-01 12:26:25.0350   \n",
       "2         56221  2018-03-31 20:13:13.5640  2018-04-01 11:50:14.8400   \n",
       "3         85844  2018-03-31 11:28:07.6580  2018-04-01 11:18:52.6130   \n",
       "4          1566  2018-03-31 23:37:56.6400  2018-04-01 00:04:02.8930   \n",
       "\n",
       "   start_station_id            start_station_name  start_station_latitude  \\\n",
       "0               4.0   Cyril Magnin St at Ellis St               37.785881   \n",
       "1              78.0           Folsom St at 9th St               37.773717   \n",
       "2             258.0   University Ave at Oxford St               37.872355   \n",
       "3             186.0        Lakeside Dr at 14th St               37.801319   \n",
       "4             193.0  Grand Ave at Santa Clara Ave               37.812744   \n",
       "\n",
       "   start_station_longitude  end_station_id               end_station_name  \\\n",
       "0              -122.408915             6.0  The Embarcadero at Sansome St   \n",
       "1              -122.411647            47.0          4th St at Harrison St   \n",
       "2              -122.266447           239.0  Bancroft Way at Telegraph Ave   \n",
       "3              -122.262642           340.0        Harmon St at Adeline St   \n",
       "4              -122.247215           196.0        Grand Ave at Perkins St   \n",
       "\n",
       "   end_station_latitude  end_station_longitude  bike_id   user_type  \\\n",
       "0             37.804770            -122.403234      341    Customer   \n",
       "1             37.780955            -122.399749      536  Subscriber   \n",
       "2             37.868813            -122.258764     3245    Customer   \n",
       "3             37.849735            -122.270582     3722    Customer   \n",
       "4             37.808894            -122.256460     2355  Subscriber   \n",
       "\n",
       "   member_birth_year member_gender bike_share_for_all_trip  \n",
       "0             1964.0        Female                      No  \n",
       "1             1984.0          Male                      No  \n",
       "2             1983.0          Male                      No  \n",
       "3                NaN           NaN                      No  \n",
       "4             1979.0          Male                      No  "
      ]
     },
     "execution_count": 8,
     "metadata": {},
     "output_type": "execute_result"
    }
   ],
   "source": [
    "print(baywheels_data.shape)  \n",
    "print(baywheels_data.dtypes)\n",
    "baywheels_data.head()"
   ]
  },
  {
   "cell_type": "markdown",
   "metadata": {},
   "source": [
    "All the files are in one unique dataframe `baywheels_data`, but there are many issues to fix before using the \n",
    "dataframe. Many columns does not have the correct data type(start_time, end_time, start_station_id,end_station_id,\n",
    "user_type,member_birth_year,member_gender)."
   ]
  },
  {
   "cell_type": "code",
   "execution_count": 9,
   "metadata": {},
   "outputs": [],
   "source": [
    "# Change the data type of start_time and end_time from object to date_time\n",
    "baywheels_data.start_time = pd.to_datetime(baywheels_data.start_time, format = '%Y-%m-%d %H:%M:%S.%f')\n",
    "baywheels_data.end_time = pd.to_datetime(baywheels_data.end_time, format = '%Y-%m-%d %H:%M:%S.%f')"
   ]
  },
  {
   "cell_type": "code",
   "execution_count": 10,
   "metadata": {},
   "outputs": [],
   "source": [
    "# Assert that the changes are correct, no output means it is correct\n",
    "assert baywheels_data.start_time.dtypes == '<datetime64[ns]'\n",
    "assert baywheels_data.end_time.dtypes == '<datetime64[ns]'"
   ]
  },
  {
   "cell_type": "code",
   "execution_count": 28,
   "metadata": {},
   "outputs": [
    {
     "ename": "SyntaxError",
     "evalue": "unexpected EOF while parsing (<ipython-input-28-dcaa0ef56222>, line 3)",
     "output_type": "error",
     "traceback": [
      "\u001b[0;36m  File \u001b[0;32m\"<ipython-input-28-dcaa0ef56222>\"\u001b[0;36m, line \u001b[0;32m3\u001b[0m\n\u001b[0;31m    downcast = 'int64')\u001b[0m\n\u001b[0m                                    ^\u001b[0m\n\u001b[0;31mSyntaxError\u001b[0m\u001b[0;31m:\u001b[0m unexpected EOF while parsing\n"
     ]
    }
   ],
   "source": [
    "# Fill all the NaNs with the mean and change member_birth_year from float to int \n",
    "baywheels_data.member_birth_year.fillna(value = round(mean(baywheels_data.member_birth_year,\n",
    "                                        downcast = 'int64')             "
   ]
  },
  {
   "cell_type": "code",
   "execution_count": 52,
   "metadata": {},
   "outputs": [],
   "source": [
    "# Check if the data type is correct, no output means it is correct \n",
    "assert baywheels_data.member_birth_year.dtypes == 'int64'"
   ]
  },
  {
   "cell_type": "code",
   "execution_count": 63,
   "metadata": {},
   "outputs": [],
   "source": [
    "# Change the data type of member_gender from string to category\n",
    "baywheels_data.member_gender = baywheels_data.member_gender.fillna('Other') # Change the na values with other\n",
    "baywheels_data.member_gender = baywheels_data.member_gender.astype('category')"
   ]
  },
  {
   "cell_type": "code",
   "execution_count": 64,
   "metadata": {},
   "outputs": [],
   "source": [
    "# Check if the data type is correct, no output means it is correct\n",
    "assert baywheels_data.member_gender.dtypes == 'category'"
   ]
  },
  {
   "cell_type": "code",
   "execution_count": 66,
   "metadata": {},
   "outputs": [],
   "source": [
    "# Change the user type from string to category  \n",
    "baywheels_data.user_type = baywheels_data.user_type.astype('category')"
   ]
  },
  {
   "cell_type": "code",
   "execution_count": 67,
   "metadata": {},
   "outputs": [],
   "source": [
    "# Check the changes, no output means it is correct\n",
    "assert baywheels_data.user_type.dtypes == 'category'"
   ]
  },
  {
   "cell_type": "code",
   "execution_count": 71,
   "metadata": {},
   "outputs": [],
   "source": [
    "baywheels_data.start_station_id = baywheels_data.start_station_id.fillna(0) # Replace the NaNs values with 0 \n",
    "baywheels_data.end_station_id = baywheels_data.end_station_id.fillna(0)     # Replace the NaNs values with 0 \n",
    "# Change data type of start_station_id and end_station_id from float to int\n",
    "baywheels_data.start_station_id = baywheels_data.start_station_id.astype(int)\n",
    "baywheels_data.end_station_id = baywheels_data.end_station_id.astype(int)"
   ]
  },
  {
   "cell_type": "code",
   "execution_count": 75,
   "metadata": {},
   "outputs": [],
   "source": [
    "# Check the changes, no output means it is ok\n",
    "assert baywheels_data.start_station_id.dtypes == 'int64'\n",
    "assert baywheels_data.end_station_id.dtypes == 'int64'"
   ]
  },
  {
   "cell_type": "code",
   "execution_count": 88,
   "metadata": {},
   "outputs": [
    {
     "data": {
      "text/html": [
       "<div>\n",
       "<style scoped>\n",
       "    .dataframe tbody tr th:only-of-type {\n",
       "        vertical-align: middle;\n",
       "    }\n",
       "\n",
       "    .dataframe tbody tr th {\n",
       "        vertical-align: top;\n",
       "    }\n",
       "\n",
       "    .dataframe thead th {\n",
       "        text-align: right;\n",
       "    }\n",
       "</style>\n",
       "<table border=\"1\" class=\"dataframe\">\n",
       "  <thead>\n",
       "    <tr style=\"text-align: right;\">\n",
       "      <th></th>\n",
       "      <th>duration_sec</th>\n",
       "      <th>start_station_id</th>\n",
       "      <th>start_station_latitude</th>\n",
       "      <th>start_station_longitude</th>\n",
       "      <th>end_station_id</th>\n",
       "      <th>end_station_latitude</th>\n",
       "      <th>end_station_longitude</th>\n",
       "      <th>bike_id</th>\n",
       "      <th>member_birth_year</th>\n",
       "    </tr>\n",
       "  </thead>\n",
       "  <tbody>\n",
       "    <tr>\n",
       "      <th>count</th>\n",
       "      <td>1.863721e+06</td>\n",
       "      <td>1.863721e+06</td>\n",
       "      <td>1.863721e+06</td>\n",
       "      <td>1.863721e+06</td>\n",
       "      <td>1.863721e+06</td>\n",
       "      <td>1.863721e+06</td>\n",
       "      <td>1.863721e+06</td>\n",
       "      <td>1.863721e+06</td>\n",
       "      <td>1.863721e+06</td>\n",
       "    </tr>\n",
       "    <tr>\n",
       "      <th>mean</th>\n",
       "      <td>8.573026e+02</td>\n",
       "      <td>1.189186e+02</td>\n",
       "      <td>3.776678e+01</td>\n",
       "      <td>-1.223492e+02</td>\n",
       "      <td>1.174266e+02</td>\n",
       "      <td>3.776690e+01</td>\n",
       "      <td>-1.223487e+02</td>\n",
       "      <td>2.296851e+03</td>\n",
       "      <td>1.865279e+03</td>\n",
       "    </tr>\n",
       "    <tr>\n",
       "      <th>std</th>\n",
       "      <td>2.370379e+03</td>\n",
       "      <td>1.005281e+02</td>\n",
       "      <td>1.057689e-01</td>\n",
       "      <td>1.654634e-01</td>\n",
       "      <td>1.005593e+02</td>\n",
       "      <td>1.056483e-01</td>\n",
       "      <td>1.650597e-01</td>\n",
       "      <td>1.287733e+03</td>\n",
       "      <td>4.688814e+02</td>\n",
       "    </tr>\n",
       "    <tr>\n",
       "      <th>min</th>\n",
       "      <td>6.100000e+01</td>\n",
       "      <td>0.000000e+00</td>\n",
       "      <td>3.726331e+01</td>\n",
       "      <td>-1.224737e+02</td>\n",
       "      <td>0.000000e+00</td>\n",
       "      <td>3.726331e+01</td>\n",
       "      <td>-1.224737e+02</td>\n",
       "      <td>1.100000e+01</td>\n",
       "      <td>0.000000e+00</td>\n",
       "    </tr>\n",
       "    <tr>\n",
       "      <th>25%</th>\n",
       "      <td>3.500000e+02</td>\n",
       "      <td>3.000000e+01</td>\n",
       "      <td>3.777106e+01</td>\n",
       "      <td>-1.224114e+02</td>\n",
       "      <td>3.000000e+01</td>\n",
       "      <td>3.777106e+01</td>\n",
       "      <td>-1.224094e+02</td>\n",
       "      <td>1.225000e+03</td>\n",
       "      <td>1.975000e+03</td>\n",
       "    </tr>\n",
       "    <tr>\n",
       "      <th>50%</th>\n",
       "      <td>5.560000e+02</td>\n",
       "      <td>8.800000e+01</td>\n",
       "      <td>3.778107e+01</td>\n",
       "      <td>-1.223974e+02</td>\n",
       "      <td>8.700000e+01</td>\n",
       "      <td>3.778127e+01</td>\n",
       "      <td>-1.223971e+02</td>\n",
       "      <td>2.338000e+03</td>\n",
       "      <td>1.985000e+03</td>\n",
       "    </tr>\n",
       "    <tr>\n",
       "      <th>75%</th>\n",
       "      <td>8.720000e+02</td>\n",
       "      <td>1.830000e+02</td>\n",
       "      <td>3.779625e+01</td>\n",
       "      <td>-1.222865e+02</td>\n",
       "      <td>1.830000e+02</td>\n",
       "      <td>3.779728e+01</td>\n",
       "      <td>-1.222894e+02</td>\n",
       "      <td>3.333000e+03</td>\n",
       "      <td>1.990000e+03</td>\n",
       "    </tr>\n",
       "    <tr>\n",
       "      <th>max</th>\n",
       "      <td>8.636600e+04</td>\n",
       "      <td>3.810000e+02</td>\n",
       "      <td>4.551000e+01</td>\n",
       "      <td>-7.357000e+01</td>\n",
       "      <td>3.810000e+02</td>\n",
       "      <td>4.551000e+01</td>\n",
       "      <td>-7.357000e+01</td>\n",
       "      <td>6.234000e+03</td>\n",
       "      <td>2.000000e+03</td>\n",
       "    </tr>\n",
       "  </tbody>\n",
       "</table>\n",
       "</div>"
      ],
      "text/plain": [
       "       duration_sec  start_station_id  start_station_latitude  \\\n",
       "count  1.863721e+06      1.863721e+06            1.863721e+06   \n",
       "mean   8.573026e+02      1.189186e+02            3.776678e+01   \n",
       "std    2.370379e+03      1.005281e+02            1.057689e-01   \n",
       "min    6.100000e+01      0.000000e+00            3.726331e+01   \n",
       "25%    3.500000e+02      3.000000e+01            3.777106e+01   \n",
       "50%    5.560000e+02      8.800000e+01            3.778107e+01   \n",
       "75%    8.720000e+02      1.830000e+02            3.779625e+01   \n",
       "max    8.636600e+04      3.810000e+02            4.551000e+01   \n",
       "\n",
       "       start_station_longitude  end_station_id  end_station_latitude  \\\n",
       "count             1.863721e+06    1.863721e+06          1.863721e+06   \n",
       "mean             -1.223492e+02    1.174266e+02          3.776690e+01   \n",
       "std               1.654634e-01    1.005593e+02          1.056483e-01   \n",
       "min              -1.224737e+02    0.000000e+00          3.726331e+01   \n",
       "25%              -1.224114e+02    3.000000e+01          3.777106e+01   \n",
       "50%              -1.223974e+02    8.700000e+01          3.778127e+01   \n",
       "75%              -1.222865e+02    1.830000e+02          3.779728e+01   \n",
       "max              -7.357000e+01    3.810000e+02          4.551000e+01   \n",
       "\n",
       "       end_station_longitude       bike_id  member_birth_year  \n",
       "count           1.863721e+06  1.863721e+06       1.863721e+06  \n",
       "mean           -1.223487e+02  2.296851e+03       1.865279e+03  \n",
       "std             1.650597e-01  1.287733e+03       4.688814e+02  \n",
       "min            -1.224737e+02  1.100000e+01       0.000000e+00  \n",
       "25%            -1.224094e+02  1.225000e+03       1.975000e+03  \n",
       "50%            -1.223971e+02  2.338000e+03       1.985000e+03  \n",
       "75%            -1.222894e+02  3.333000e+03       1.990000e+03  \n",
       "max            -7.357000e+01  6.234000e+03       2.000000e+03  "
      ]
     },
     "execution_count": 88,
     "metadata": {},
     "output_type": "execute_result"
    }
   ],
   "source": [
    "# Some descriptives statistics for numeric variables\n",
    "baywheels_data.describe()"
   ]
  },
  {
   "cell_type": "markdown",
   "metadata": {},
   "source": [
    "**Structure of the Dataset**  \n",
    "There are 1863721 rows and 16 variables in the dataset(duration_sec, start_time, end_time, start_station_id, start_station_name, start_station_latitude, start_station_longitude, end_station_id, end_station_name, end_station_latitude, end_station_longitude, bike_id, user_type, member_birth_year, member_gender, bike_share_for_all_trip), 9 of these are numerical variables."
   ]
  },
  {
   "cell_type": "markdown",
   "metadata": {},
   "source": [
    "**Main features of interest in the dataset**  \n",
    "We are more interested in figuring out what factors or features affect the place a trip is taken and the duration of the trips."
   ]
  },
  {
   "cell_type": "markdown",
   "metadata": {},
   "source": [
    "**Features That will help support our investigation into our features of interest**  \n",
    "Probably during the summer and holidays there will be more trip and for more time so the variables start_time and\n",
    "end_time will probably have the major effect on the duration, we can also expect that subscriber takes more trips\n",
    "than customers, we can expect that young people have many trips than old people.\n"
   ]
  },
  {
   "cell_type": "markdown",
   "metadata": {},
   "source": [
    "## Univariate Exploration"
   ]
  },
  {
   "cell_type": "code",
   "execution_count": 105,
   "metadata": {},
   "outputs": [
    {
     "data": {
      "image/png": "[encoded data removed]",
      "text/plain": [
       "<Figure size 432x288 with 1 Axes>"
      ]
     },
     "metadata": {
      "needs_background": "light"
     },
     "output_type": "display_data"
    }
   ],
   "source": [
    "# Plot of the user type\n",
    "base_color = sb.color_palette()[0]\n",
    "sb.countplot(data = baywheels_data, x = 'user_type', color = base_color)\n",
    "plt.xlabel('User Type');"
   ]
  },
  {
   "cell_type": "markdown",
   "metadata": {},
   "source": [
    "As expected all over the year there are more Subscribers than customers."
   ]
  },
  {
   "cell_type": "code",
   "execution_count": 107,
   "metadata": {},
   "outputs": [
    {
     "data": {
      "image/png": "[encoded data removed]",
      "text/plain": [
       "<Figure size 432x288 with 1 Axes>"
      ]
     },
     "metadata": {
      "needs_background": "light"
     },
     "output_type": "display_data"
    }
   ],
   "source": [
    "# Plot Member gender\n",
    "sb.countplot(data = baywheels_data, x = 'member_gender', color = base_color)\n",
    "plt.xlabel('Member Gender');"
   ]
  },
  {
   "cell_type": "markdown",
   "metadata": {},
   "source": [
    "All over the year there are More men have trip compared to Women."
   ]
  },
  {
   "cell_type": "code",
   "execution_count": null,
   "metadata": {},
   "outputs": [],
   "source": []
  },
  {
   "cell_type": "code",
   "execution_count": 120,
   "metadata": {},
   "outputs": [
    {
     "data": {
      "text/plain": [
       "0       110718\n",
       "1988    102836\n",
       "1987     86554\n",
       "1989     84830\n",
       "1990     81999\n",
       "1985     79126\n",
       "1993     78702\n",
       "1991     77831\n",
       "1986     75675\n",
       "1984     71470\n",
       "1992     69355\n",
       "1983     65737\n",
       "1982     62665\n",
       "1994     62062\n",
       "1995     51544\n",
       "1981     49865\n",
       "1980     48586\n",
       "1979     38534\n",
       "1977     38293\n",
       "1978     36804\n",
       "1996     35124\n",
       "1975     33680\n",
       "1976     29344\n",
       "1974     28351\n",
       "1997     26744\n",
       "1973     24824\n",
       "1971     24792\n",
       "1968     24021\n",
       "1972     22334\n",
       "1965     21358\n",
       "         ...  \n",
       "1943       455\n",
       "1942       377\n",
       "1936       303\n",
       "1944       265\n",
       "1946       262\n",
       "1911       262\n",
       "1931       228\n",
       "1933       226\n",
       "1902       169\n",
       "1935       157\n",
       "1924       134\n",
       "1941       114\n",
       "1920        91\n",
       "1934        74\n",
       "1938        42\n",
       "1940        41\n",
       "1939        32\n",
       "1901        29\n",
       "1932        25\n",
       "1888        23\n",
       "1928        20\n",
       "1914        18\n",
       "1904        12\n",
       "1927         8\n",
       "1881         5\n",
       "1909         4\n",
       "1889         3\n",
       "1906         2\n",
       "1930         1\n",
       "1903         1\n",
       "Name: member_birth_year, Length: 87, dtype: int64"
      ]
     },
     "execution_count": 120,
     "metadata": {},
     "output_type": "execute_result"
    }
   ],
   "source": [
    "baywheels_data.member_birth_year.value_counts()"
   ]
  }
 ],
 "metadata": {
  "kernelspec": {
   "display_name": "investigate",
   "language": "python",
   "name": "investigate_data"
  },
  "language_info": {
   "codemirror_mode": {
    "name": "ipython",
    "version": 3
   },
   "file_extension": ".py",
   "mimetype": "text/x-python",
   "name": "python",
   "nbconvert_exporter": "python",
   "pygments_lexer": "ipython3",
   "version": "3.7.3"
  }
 },
 "nbformat": 4,
 "nbformat_minor": 2
}
