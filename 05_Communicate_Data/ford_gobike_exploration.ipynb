{
 "cells": [
  {
   "cell_type": "markdown",
   "metadata": {},
   "source": [
    "# Ford GoBike System Data Flights Exploration\n",
    "## by *Furawa*\n",
    "\n",
    "## Data Wrangling\n",
    "\n",
    "The Ford GoBike System Data Flights includes information about individual rides made in a bike-sharing system covering the greater San Francisco Bay area.  We will use the datasets of all the year 2018 which are divided in 12 separated datasets(1 dataset for each month of the year). \n",
    "We will download all the 12 datasets for the year 2018, gather them all together in one unique dataset, assess it and clean it if necessary. \n",
    "First of all let us import libraries useful for the process.  "
   ]
  },
  {
   "cell_type": "code",
   "execution_count": 26,
   "metadata": {},
   "outputs": [],
   "source": [
    "# Import libraries\n",
    "import numpy as np\n",
    "import pandas as pd\n",
    "import seaborn as sb\n",
    "import matplotlib.pyplot as plt  \n",
    "import requests\n",
    "import os\n",
    "import zipfile\n",
    "import re\n",
    "\n",
    "%matplotlib inline"
   ]
  },
  {
   "cell_type": "markdown",
   "metadata": {},
   "source": [
    "Let us retrieve all the urls from the [Bay Wheels trip history data](https://s3.amazonaws.com/baywheels-data/index.html)."
   ]
  },
  {
   "cell_type": "code",
   "execution_count": 76,
   "metadata": {},
   "outputs": [
    {
     "data": {
      "text/plain": [
       "['https://s3.amazonaws.com/baywheels-data/201801-fordgobike-tripdata.csv.zip',\n",
       " 'https://s3.amazonaws.com/baywheels-data/201802-fordgobike-tripdata.csv.zip',\n",
       " 'https://s3.amazonaws.com/baywheels-data/201803-fordgobike-tripdata.csv.zip',\n",
       " 'https://s3.amazonaws.com/baywheels-data/201804-fordgobike-tripdata.csv.zip',\n",
       " 'https://s3.amazonaws.com/baywheels-data/201805-fordgobike-tripdata.csv.zip',\n",
       " 'https://s3.amazonaws.com/baywheels-data/201806-fordgobike-tripdata.csv.zip',\n",
       " 'https://s3.amazonaws.com/baywheels-data/201807-fordgobike-tripdata.csv.zip',\n",
       " 'https://s3.amazonaws.com/baywheels-data/201808-fordgobike-tripdata.csv.zip',\n",
       " 'https://s3.amazonaws.com/baywheels-data/201809-fordgobike-tripdata.csv.zip',\n",
       " 'https://s3.amazonaws.com/baywheels-data/201810-fordgobike-tripdata.csv.zip',\n",
       " 'https://s3.amazonaws.com/baywheels-data/201811-fordgobike-tripdata.csv.zip',\n",
       " 'https://s3.amazonaws.com/baywheels-data/201812-fordgobike-tripdata.csv.zip']"
      ]
     },
     "execution_count": 76,
     "metadata": {},
     "output_type": "execute_result"
    }
   ],
   "source": [
    "# Create an empty list to store the urls\n",
    "baywheels_urls = []\n",
    "# Create a for loop to retrieve the urls one by one, there are 12\n",
    "for i in range(1,13):\n",
    "    # Remove the 0 (after 2018) after the 9th file\n",
    "    if i < 10:\n",
    "        url = 'https://s3.amazonaws.com/baywheels-data/20180' + str(i) +'-fordgobike-tripdata.csv.zip'\n",
    "    else:\n",
    "        url = 'https://s3.amazonaws.com/baywheels-data/2018' + str(i) +'-fordgobike-tripdata.csv.zip'\n",
    "    baywheels_urls.append(url)\n",
    "baywheels_urls"
   ]
  },
  {
   "cell_type": "markdown",
   "metadata": {},
   "source": [
    "Now we download all the zip files from the urls and store them in the created folder.  "
   ]
  },
  {
   "cell_type": "code",
   "execution_count": 77,
   "metadata": {},
   "outputs": [
    {
     "data": {
      "text/plain": [
       "['201801-fordgobike-tripdata.csv.zip',\n",
       " '201802-fordgobike-tripdata.csv.zip',\n",
       " '201803-fordgobike-tripdata.csv.zip',\n",
       " '201804-fordgobike-tripdata.csv.zip',\n",
       " '201805-fordgobike-tripdata.csv.zip',\n",
       " '201806-fordgobike-tripdata.csv.zip',\n",
       " '201807-fordgobike-tripdata.csv.zip',\n",
       " '201808-fordgobike-tripdata.csv.zip',\n",
       " '201809-fordgobike-tripdata.csv.zip',\n",
       " '201810-fordgobike-tripdata.csv.zip',\n",
       " '201811-fordgobike-tripdata.csv.zip',\n",
       " '201812-fordgobike-tripdata.csv.zip']"
      ]
     },
     "execution_count": 77,
     "metadata": {},
     "output_type": "execute_result"
    }
   ],
   "source": [
    "zip_folder = 'baywheels_monthly_data_zip'   # folder to store the zip files\n",
    "# Create zip_folder if it does not exist\n",
    "if not os.path.exists(zip_folder):\n",
    "    os.makedirs(zip_folder)\n",
    "    \n",
    "# Download each zip file from the urls with a for loop\n",
    "for url in baywheels_urls:  \n",
    "    response = requests.get(url)\n",
    "    # Retrieve programmatically the name of the file which is the last part after /\n",
    "    with open(os.path.join(zip_folder, url.split('/')[-1]), mode = 'wb') as file:\n",
    "        file.write(response.content)\n",
    "sorted(os.listdir(zip_folder))"
   ]
  },
  {
   "cell_type": "markdown",
   "metadata": {},
   "source": [
    "All the zip files are in the folder, we can proceed and unzip them.  "
   ]
  },
  {
   "cell_type": "code",
   "execution_count": 78,
   "metadata": {},
   "outputs": [],
   "source": [
    "csv_folder = 'baywheels_monthly_data_csv'   # folder to store the unzip csv files\n",
    "# Create csv_folder\n",
    "if not os.path.exists(csv_folder):\n",
    "    os.makedirs(csv_folder)\n",
    "    \n",
    "import glob\n",
    "files = glob.glob(zip_folder+'/*.zip')\n",
    "for file in files:\n",
    "    with zipfile.ZipFile(file, 'r') as my_zip:\n",
    "        my_zip.extractall(csv_folder)"
   ]
  },
  {
   "cell_type": "code",
   "execution_count": 79,
   "metadata": {},
   "outputs": [
    {
     "data": {
      "text/plain": [
       "['201801-fordgobike-tripdata.csv',\n",
       " '201802-fordgobike-tripdata.csv',\n",
       " '201803-fordgobike-tripdata.csv',\n",
       " '201804-fordgobike-tripdata.csv',\n",
       " '201805-fordgobike-tripdata.csv',\n",
       " '201806-fordgobike-tripdata.csv',\n",
       " '201807-fordgobike-tripdata.csv',\n",
       " '201808-fordgobike-tripdata.csv',\n",
       " '201809-fordgobike-tripdata.csv',\n",
       " '201810-fordgobike-tripdata.csv',\n",
       " '201811-fordgobike-tripdata.csv',\n",
       " '201812-fordgobike-tripdata.csv']"
      ]
     },
     "execution_count": 79,
     "metadata": {},
     "output_type": "execute_result"
    }
   ],
   "source": [
    "sorted(os.listdir(csv_folder))"
   ]
  }
 ],
 "metadata": {
  "kernelspec": {
   "display_name": "investigate",
   "language": "python",
   "name": "investigate_data"
  },
  "language_info": {
   "codemirror_mode": {
    "name": "ipython",
    "version": 3
   },
   "file_extension": ".py",
   "mimetype": "text/x-python",
   "name": "python",
   "nbconvert_exporter": "python",
   "pygments_lexer": "ipython3",
   "version": "3.7.3"
  }
 },
 "nbformat": 4,
 "nbformat_minor": 2
}
