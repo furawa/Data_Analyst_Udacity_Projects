{
 "cells": [
  {
   "cell_type": "markdown",
   "metadata": {},
   "source": [
    "# Ford GoBike System Data Flights Exploration\n",
    "## by *Furawa*\n",
    "\n",
    "## Data Wrangling\n",
    "\n",
    "The Ford GoBike System Data Flights includes information about individual rides made in a bike-sharing system covering the greater San Francisco Bay area.  We will use the datasets of all the year 2018 which are divided in 12 separated datasets(1 dataset for each month of the year). \n",
    "We will download all the 12 datasets for the year 2018, gather them all together in one unique dataset, assess it and clean it if necessary. \n",
    "First of all let us import libraries useful for the process.  "
   ]
  },
  {
   "cell_type": "code",
   "execution_count": 2,
   "metadata": {},
   "outputs": [],
   "source": [
    "# Import libraries\n",
    "import numpy as np\n",
    "import pandas as pd\n",
    "import seaborn as sb\n",
    "import matplotlib.pyplot as plt  \n",
    "import requests\n",
    "import os\n",
    "import zipfile\n",
    "import re\n",
    "import datetime\n",
    "\n",
    "%matplotlib inline"
   ]
  },
  {
   "cell_type": "markdown",
   "metadata": {},
   "source": [
    "Let us retrieve all the urls from the [Bay Wheels trip history data](https://s3.amazonaws.com/baywheels-data/index.html)."
   ]
  },
  {
   "cell_type": "code",
   "execution_count": 4,
   "metadata": {},
   "outputs": [
    {
     "data": {
      "text/plain": [
       "['https://s3.amazonaws.com/baywheels-data/201801-fordgobike-tripdata.csv.zip',\n",
       " 'https://s3.amazonaws.com/baywheels-data/201802-fordgobike-tripdata.csv.zip',\n",
       " 'https://s3.amazonaws.com/baywheels-data/201803-fordgobike-tripdata.csv.zip',\n",
       " 'https://s3.amazonaws.com/baywheels-data/201804-fordgobike-tripdata.csv.zip',\n",
       " 'https://s3.amazonaws.com/baywheels-data/201805-fordgobike-tripdata.csv.zip',\n",
       " 'https://s3.amazonaws.com/baywheels-data/201806-fordgobike-tripdata.csv.zip',\n",
       " 'https://s3.amazonaws.com/baywheels-data/201807-fordgobike-tripdata.csv.zip',\n",
       " 'https://s3.amazonaws.com/baywheels-data/201808-fordgobike-tripdata.csv.zip',\n",
       " 'https://s3.amazonaws.com/baywheels-data/201809-fordgobike-tripdata.csv.zip',\n",
       " 'https://s3.amazonaws.com/baywheels-data/201810-fordgobike-tripdata.csv.zip',\n",
       " 'https://s3.amazonaws.com/baywheels-data/201811-fordgobike-tripdata.csv.zip',\n",
       " 'https://s3.amazonaws.com/baywheels-data/201812-fordgobike-tripdata.csv.zip']"
      ]
     },
     "execution_count": 4,
     "metadata": {},
     "output_type": "execute_result"
    }
   ],
   "source": [
    "# Create an empty list to store the urls\n",
    "baywheels_urls = []\n",
    "# Create a for loop to retrieve the urls one by one, there are 12\n",
    "for i in range(1,13):\n",
    "    # Remove the 0 (after 2018) after the 9th file\n",
    "    if i < 10:\n",
    "        url = 'https://s3.amazonaws.com/baywheels-data/20180' + str(i) +'-fordgobike-tripdata.csv.zip'\n",
    "    else:\n",
    "        url = 'https://s3.amazonaws.com/baywheels-data/2018' + str(i) +'-fordgobike-tripdata.csv.zip'\n",
    "    baywheels_urls.append(url)\n",
    "baywheels_urls"
   ]
  },
  {
   "cell_type": "markdown",
   "metadata": {},
   "source": [
    "Now we download all the zip files from the urls and store them in the created folder.  "
   ]
  },
  {
   "cell_type": "code",
   "execution_count": 5,
   "metadata": {},
   "outputs": [
    {
     "data": {
      "text/plain": [
       "['201801-fordgobike-tripdata.csv.zip',\n",
       " '201802-fordgobike-tripdata.csv.zip',\n",
       " '201803-fordgobike-tripdata.csv.zip',\n",
       " '201804-fordgobike-tripdata.csv.zip',\n",
       " '201805-fordgobike-tripdata.csv.zip',\n",
       " '201806-fordgobike-tripdata.csv.zip',\n",
       " '201807-fordgobike-tripdata.csv.zip',\n",
       " '201808-fordgobike-tripdata.csv.zip',\n",
       " '201809-fordgobike-tripdata.csv.zip',\n",
       " '201810-fordgobike-tripdata.csv.zip',\n",
       " '201811-fordgobike-tripdata.csv.zip',\n",
       " '201812-fordgobike-tripdata.csv.zip']"
      ]
     },
     "execution_count": 5,
     "metadata": {},
     "output_type": "execute_result"
    }
   ],
   "source": [
    "zip_folder = 'baywheels_monthly_data_zip'   # folder to store the zip files\n",
    "# Create zip_folder if it does not exist\n",
    "if not os.path.exists(zip_folder):\n",
    "    os.makedirs(zip_folder)\n",
    "    \n",
    "# Download each zip file from the urls with a for loop\n",
    "for url in baywheels_urls:  \n",
    "    response = requests.get(url)\n",
    "    # Retrieve programmatically the name of the file which is the last part after /\n",
    "    with open(os.path.join(zip_folder, url.split('/')[-1]), mode = 'wb') as file:\n",
    "        file.write(response.content)\n",
    "sorted(os.listdir(zip_folder))"
   ]
  },
  {
   "cell_type": "markdown",
   "metadata": {},
   "source": [
    "All the zip files are in the folder, we can proceed and unzip them.  "
   ]
  },
  {
   "cell_type": "code",
   "execution_count": 6,
   "metadata": {},
   "outputs": [],
   "source": [
    "csv_folder = 'baywheels_monthly_data_csv'   # folder to store the unzip csv files\n",
    "# Create csv_folder\n",
    "if not os.path.exists(csv_folder):\n",
    "    os.makedirs(csv_folder)\n",
    "    \n",
    "import glob\n",
    "files = glob.glob(zip_folder+'/*.zip')\n",
    "for file in files:\n",
    "    with zipfile.ZipFile(file, 'r') as my_zip:\n",
    "        my_zip.extractall(csv_folder)"
   ]
  },
  {
   "cell_type": "code",
   "execution_count": 7,
   "metadata": {},
   "outputs": [
    {
     "data": {
      "text/plain": [
       "['201801-fordgobike-tripdata.csv',\n",
       " '201802-fordgobike-tripdata.csv',\n",
       " '201803-fordgobike-tripdata.csv',\n",
       " '201804-fordgobike-tripdata.csv',\n",
       " '201805-fordgobike-tripdata.csv',\n",
       " '201806-fordgobike-tripdata.csv',\n",
       " '201807-fordgobike-tripdata.csv',\n",
       " '201808-fordgobike-tripdata.csv',\n",
       " '201809-fordgobike-tripdata.csv',\n",
       " '201810-fordgobike-tripdata.csv',\n",
       " '201811-fordgobike-tripdata.csv',\n",
       " '201812-fordgobike-tripdata.csv']"
      ]
     },
     "execution_count": 7,
     "metadata": {},
     "output_type": "execute_result"
    }
   ],
   "source": [
    "sorted(os.listdir(csv_folder))"
   ]
  },
  {
   "cell_type": "code",
   "execution_count": 84,
   "metadata": {},
   "outputs": [
    {
     "name": "stdout",
     "output_type": "stream",
     "text": [
      "duration_sec                 int64\n",
      "start_time                  object\n",
      "end_time                    object\n",
      "start_station_id             int64\n",
      "start_station_name          object\n",
      "start_station_latitude     float64\n",
      "start_station_longitude    float64\n",
      "end_station_id               int64\n",
      "end_station_name            object\n",
      "end_station_latitude       float64\n",
      "end_station_longitude      float64\n",
      "bike_id                      int64\n",
      "user_type                   object\n",
      "member_birth_year          float64\n",
      "member_gender               object\n",
      "bike_share_for_all_trip     object\n",
      "dtype: object\n"
     ]
    },
    {
     "data": {
      "text/html": [
       "<div>\n",
       "<style scoped>\n",
       "    .dataframe tbody tr th:only-of-type {\n",
       "        vertical-align: middle;\n",
       "    }\n",
       "\n",
       "    .dataframe tbody tr th {\n",
       "        vertical-align: top;\n",
       "    }\n",
       "\n",
       "    .dataframe thead th {\n",
       "        text-align: right;\n",
       "    }\n",
       "</style>\n",
       "<table border=\"1\" class=\"dataframe\">\n",
       "  <thead>\n",
       "    <tr style=\"text-align: right;\">\n",
       "      <th></th>\n",
       "      <th>duration_sec</th>\n",
       "      <th>start_time</th>\n",
       "      <th>end_time</th>\n",
       "      <th>start_station_id</th>\n",
       "      <th>start_station_name</th>\n",
       "      <th>start_station_latitude</th>\n",
       "      <th>start_station_longitude</th>\n",
       "      <th>end_station_id</th>\n",
       "      <th>end_station_name</th>\n",
       "      <th>end_station_latitude</th>\n",
       "      <th>end_station_longitude</th>\n",
       "      <th>bike_id</th>\n",
       "      <th>user_type</th>\n",
       "      <th>member_birth_year</th>\n",
       "      <th>member_gender</th>\n",
       "      <th>bike_share_for_all_trip</th>\n",
       "    </tr>\n",
       "  </thead>\n",
       "  <tbody>\n",
       "    <tr>\n",
       "      <th>704</th>\n",
       "      <td>372</td>\n",
       "      <td>2018-01-31 18:52:46.6920</td>\n",
       "      <td>2018-01-31 18:58:58.9290</td>\n",
       "      <td>37</td>\n",
       "      <td>2nd St at Folsom St</td>\n",
       "      <td>37.785000</td>\n",
       "      <td>-122.395936</td>\n",
       "      <td>64</td>\n",
       "      <td>5th St at Brannan St</td>\n",
       "      <td>37.776754</td>\n",
       "      <td>-122.399018</td>\n",
       "      <td>762</td>\n",
       "      <td>Subscriber</td>\n",
       "      <td>1974.0</td>\n",
       "      <td>Male</td>\n",
       "      <td>No</td>\n",
       "    </tr>\n",
       "    <tr>\n",
       "      <th>83640</th>\n",
       "      <td>318</td>\n",
       "      <td>2018-01-05 08:26:04.1060</td>\n",
       "      <td>2018-01-05 08:31:22.9710</td>\n",
       "      <td>27</td>\n",
       "      <td>Beale St at Harrison St</td>\n",
       "      <td>37.788059</td>\n",
       "      <td>-122.391865</td>\n",
       "      <td>49</td>\n",
       "      <td>S Park St at 3rd St</td>\n",
       "      <td>37.780760</td>\n",
       "      <td>-122.394989</td>\n",
       "      <td>1570</td>\n",
       "      <td>Subscriber</td>\n",
       "      <td>1992.0</td>\n",
       "      <td>Male</td>\n",
       "      <td>No</td>\n",
       "    </tr>\n",
       "    <tr>\n",
       "      <th>65742</th>\n",
       "      <td>860</td>\n",
       "      <td>2018-01-12 09:13:59.7090</td>\n",
       "      <td>2018-01-12 09:28:20.6200</td>\n",
       "      <td>30</td>\n",
       "      <td>San Francisco Caltrain (Townsend St at 4th St)</td>\n",
       "      <td>37.776598</td>\n",
       "      <td>-122.395282</td>\n",
       "      <td>9</td>\n",
       "      <td>Broadway at Battery St</td>\n",
       "      <td>37.798572</td>\n",
       "      <td>-122.400869</td>\n",
       "      <td>1106</td>\n",
       "      <td>Subscriber</td>\n",
       "      <td>1958.0</td>\n",
       "      <td>Male</td>\n",
       "      <td>No</td>\n",
       "    </tr>\n",
       "    <tr>\n",
       "      <th>56210</th>\n",
       "      <td>951</td>\n",
       "      <td>2018-01-16 08:20:26.4320</td>\n",
       "      <td>2018-01-16 08:36:18.1320</td>\n",
       "      <td>84</td>\n",
       "      <td>Duboce Park</td>\n",
       "      <td>37.769201</td>\n",
       "      <td>-122.433812</td>\n",
       "      <td>19</td>\n",
       "      <td>Post St at Kearny St</td>\n",
       "      <td>37.788975</td>\n",
       "      <td>-122.403452</td>\n",
       "      <td>1211</td>\n",
       "      <td>Subscriber</td>\n",
       "      <td>1986.0</td>\n",
       "      <td>Female</td>\n",
       "      <td>No</td>\n",
       "    </tr>\n",
       "    <tr>\n",
       "      <th>42127</th>\n",
       "      <td>759</td>\n",
       "      <td>2018-01-19 18:45:07.1350</td>\n",
       "      <td>2018-01-19 18:57:46.3310</td>\n",
       "      <td>107</td>\n",
       "      <td>17th St at Dolores St</td>\n",
       "      <td>37.763015</td>\n",
       "      <td>-122.426497</td>\n",
       "      <td>139</td>\n",
       "      <td>Garfield Square (25th St at Harrison St)</td>\n",
       "      <td>37.751017</td>\n",
       "      <td>-122.411901</td>\n",
       "      <td>2273</td>\n",
       "      <td>Customer</td>\n",
       "      <td>NaN</td>\n",
       "      <td>NaN</td>\n",
       "      <td>No</td>\n",
       "    </tr>\n",
       "    <tr>\n",
       "      <th>60818</th>\n",
       "      <td>1045</td>\n",
       "      <td>2018-01-14 00:01:12.0370</td>\n",
       "      <td>2018-01-14 00:18:37.5650</td>\n",
       "      <td>105</td>\n",
       "      <td>16th St at Prosper St</td>\n",
       "      <td>37.764285</td>\n",
       "      <td>-122.431804</td>\n",
       "      <td>133</td>\n",
       "      <td>Valencia St at 22nd St</td>\n",
       "      <td>37.755213</td>\n",
       "      <td>-122.420975</td>\n",
       "      <td>488</td>\n",
       "      <td>Subscriber</td>\n",
       "      <td>NaN</td>\n",
       "      <td>NaN</td>\n",
       "      <td>No</td>\n",
       "    </tr>\n",
       "  </tbody>\n",
       "</table>\n",
       "</div>"
      ],
      "text/plain": [
       "       duration_sec                start_time                  end_time  \\\n",
       "704             372  2018-01-31 18:52:46.6920  2018-01-31 18:58:58.9290   \n",
       "83640           318  2018-01-05 08:26:04.1060  2018-01-05 08:31:22.9710   \n",
       "65742           860  2018-01-12 09:13:59.7090  2018-01-12 09:28:20.6200   \n",
       "56210           951  2018-01-16 08:20:26.4320  2018-01-16 08:36:18.1320   \n",
       "42127           759  2018-01-19 18:45:07.1350  2018-01-19 18:57:46.3310   \n",
       "60818          1045  2018-01-14 00:01:12.0370  2018-01-14 00:18:37.5650   \n",
       "\n",
       "       start_station_id                              start_station_name  \\\n",
       "704                  37                             2nd St at Folsom St   \n",
       "83640                27                         Beale St at Harrison St   \n",
       "65742                30  San Francisco Caltrain (Townsend St at 4th St)   \n",
       "56210                84                                     Duboce Park   \n",
       "42127               107                           17th St at Dolores St   \n",
       "60818               105                           16th St at Prosper St   \n",
       "\n",
       "       start_station_latitude  start_station_longitude  end_station_id  \\\n",
       "704                 37.785000              -122.395936              64   \n",
       "83640               37.788059              -122.391865              49   \n",
       "65742               37.776598              -122.395282               9   \n",
       "56210               37.769201              -122.433812              19   \n",
       "42127               37.763015              -122.426497             139   \n",
       "60818               37.764285              -122.431804             133   \n",
       "\n",
       "                               end_station_name  end_station_latitude  \\\n",
       "704                        5th St at Brannan St             37.776754   \n",
       "83640                       S Park St at 3rd St             37.780760   \n",
       "65742                    Broadway at Battery St             37.798572   \n",
       "56210                      Post St at Kearny St             37.788975   \n",
       "42127  Garfield Square (25th St at Harrison St)             37.751017   \n",
       "60818                    Valencia St at 22nd St             37.755213   \n",
       "\n",
       "       end_station_longitude  bike_id   user_type  member_birth_year  \\\n",
       "704              -122.399018      762  Subscriber             1974.0   \n",
       "83640            -122.394989     1570  Subscriber             1992.0   \n",
       "65742            -122.400869     1106  Subscriber             1958.0   \n",
       "56210            -122.403452     1211  Subscriber             1986.0   \n",
       "42127            -122.411901     2273    Customer                NaN   \n",
       "60818            -122.420975      488  Subscriber                NaN   \n",
       "\n",
       "      member_gender bike_share_for_all_trip  \n",
       "704            Male                      No  \n",
       "83640          Male                      No  \n",
       "65742          Male                      No  \n",
       "56210        Female                      No  \n",
       "42127           NaN                      No  \n",
       "60818           NaN                      No  "
      ]
     },
     "execution_count": 84,
     "metadata": {},
     "output_type": "execute_result"
    }
   ],
   "source": [
    "# Read one file to see if everything is ok\n",
    "test = pd.read_csv('baywheels_monthly_data_csv/201801-fordgobike-tripdata.csv')\n",
    "test.shape\n",
    "print(test.dtypes)\n",
    "test.sample(6)"
   ]
  },
  {
   "cell_type": "markdown",
   "metadata": {},
   "source": [
    "Now that we have all the files we can read them and join them together in a unique dataframe."
   ]
  },
  {
   "cell_type": "code",
   "execution_count": 15,
   "metadata": {},
   "outputs": [],
   "source": [
    "# Select all the files in the csv_folder and store them in a list\n",
    "list_files = glob.glob(csv_folder+'/*.csv')\n",
    "# Read all the files of the list and put them all in one unique file\n",
    "baywheels_data = pd.concat(map(pd.read_csv, list_files))"
   ]
  },
  {
   "cell_type": "code",
   "execution_count": 19,
   "metadata": {},
   "outputs": [
    {
     "name": "stdout",
     "output_type": "stream",
     "text": [
      "(1863721, 16)\n",
      "duration_sec                 int64\n",
      "start_time                  object\n",
      "end_time                    object\n",
      "start_station_id           float64\n",
      "start_station_name          object\n",
      "start_station_latitude     float64\n",
      "start_station_longitude    float64\n",
      "end_station_id             float64\n",
      "end_station_name            object\n",
      "end_station_latitude       float64\n",
      "end_station_longitude      float64\n",
      "bike_id                      int64\n",
      "user_type                   object\n",
      "member_birth_year          float64\n",
      "member_gender               object\n",
      "bike_share_for_all_trip     object\n",
      "dtype: object\n"
     ]
    },
    {
     "data": {
      "text/html": [
       "<div>\n",
       "<style scoped>\n",
       "    .dataframe tbody tr th:only-of-type {\n",
       "        vertical-align: middle;\n",
       "    }\n",
       "\n",
       "    .dataframe tbody tr th {\n",
       "        vertical-align: top;\n",
       "    }\n",
       "\n",
       "    .dataframe thead th {\n",
       "        text-align: right;\n",
       "    }\n",
       "</style>\n",
       "<table border=\"1\" class=\"dataframe\">\n",
       "  <thead>\n",
       "    <tr style=\"text-align: right;\">\n",
       "      <th></th>\n",
       "      <th>duration_sec</th>\n",
       "      <th>start_time</th>\n",
       "      <th>end_time</th>\n",
       "      <th>start_station_id</th>\n",
       "      <th>start_station_name</th>\n",
       "      <th>start_station_latitude</th>\n",
       "      <th>start_station_longitude</th>\n",
       "      <th>end_station_id</th>\n",
       "      <th>end_station_name</th>\n",
       "      <th>end_station_latitude</th>\n",
       "      <th>end_station_longitude</th>\n",
       "      <th>bike_id</th>\n",
       "      <th>user_type</th>\n",
       "      <th>member_birth_year</th>\n",
       "      <th>member_gender</th>\n",
       "      <th>bike_share_for_all_trip</th>\n",
       "    </tr>\n",
       "  </thead>\n",
       "  <tbody>\n",
       "    <tr>\n",
       "      <th>0</th>\n",
       "      <td>71766</td>\n",
       "      <td>2018-03-31 16:58:33.1490</td>\n",
       "      <td>2018-04-01 12:54:39.2630</td>\n",
       "      <td>4.0</td>\n",
       "      <td>Cyril Magnin St at Ellis St</td>\n",
       "      <td>37.785881</td>\n",
       "      <td>-122.408915</td>\n",
       "      <td>6.0</td>\n",
       "      <td>The Embarcadero at Sansome St</td>\n",
       "      <td>37.804770</td>\n",
       "      <td>-122.403234</td>\n",
       "      <td>341</td>\n",
       "      <td>Customer</td>\n",
       "      <td>1964.0</td>\n",
       "      <td>Female</td>\n",
       "      <td>No</td>\n",
       "    </tr>\n",
       "    <tr>\n",
       "      <th>1</th>\n",
       "      <td>62569</td>\n",
       "      <td>2018-03-31 19:03:35.9160</td>\n",
       "      <td>2018-04-01 12:26:25.0350</td>\n",
       "      <td>78.0</td>\n",
       "      <td>Folsom St at 9th St</td>\n",
       "      <td>37.773717</td>\n",
       "      <td>-122.411647</td>\n",
       "      <td>47.0</td>\n",
       "      <td>4th St at Harrison St</td>\n",
       "      <td>37.780955</td>\n",
       "      <td>-122.399749</td>\n",
       "      <td>536</td>\n",
       "      <td>Subscriber</td>\n",
       "      <td>1984.0</td>\n",
       "      <td>Male</td>\n",
       "      <td>No</td>\n",
       "    </tr>\n",
       "    <tr>\n",
       "      <th>2</th>\n",
       "      <td>56221</td>\n",
       "      <td>2018-03-31 20:13:13.5640</td>\n",
       "      <td>2018-04-01 11:50:14.8400</td>\n",
       "      <td>258.0</td>\n",
       "      <td>University Ave at Oxford St</td>\n",
       "      <td>37.872355</td>\n",
       "      <td>-122.266447</td>\n",
       "      <td>239.0</td>\n",
       "      <td>Bancroft Way at Telegraph Ave</td>\n",
       "      <td>37.868813</td>\n",
       "      <td>-122.258764</td>\n",
       "      <td>3245</td>\n",
       "      <td>Customer</td>\n",
       "      <td>1983.0</td>\n",
       "      <td>Male</td>\n",
       "      <td>No</td>\n",
       "    </tr>\n",
       "    <tr>\n",
       "      <th>3</th>\n",
       "      <td>85844</td>\n",
       "      <td>2018-03-31 11:28:07.6580</td>\n",
       "      <td>2018-04-01 11:18:52.6130</td>\n",
       "      <td>186.0</td>\n",
       "      <td>Lakeside Dr at 14th St</td>\n",
       "      <td>37.801319</td>\n",
       "      <td>-122.262642</td>\n",
       "      <td>340.0</td>\n",
       "      <td>Harmon St at Adeline St</td>\n",
       "      <td>37.849735</td>\n",
       "      <td>-122.270582</td>\n",
       "      <td>3722</td>\n",
       "      <td>Customer</td>\n",
       "      <td>NaN</td>\n",
       "      <td>NaN</td>\n",
       "      <td>No</td>\n",
       "    </tr>\n",
       "    <tr>\n",
       "      <th>4</th>\n",
       "      <td>1566</td>\n",
       "      <td>2018-03-31 23:37:56.6400</td>\n",
       "      <td>2018-04-01 00:04:02.8930</td>\n",
       "      <td>193.0</td>\n",
       "      <td>Grand Ave at Santa Clara Ave</td>\n",
       "      <td>37.812744</td>\n",
       "      <td>-122.247215</td>\n",
       "      <td>196.0</td>\n",
       "      <td>Grand Ave at Perkins St</td>\n",
       "      <td>37.808894</td>\n",
       "      <td>-122.256460</td>\n",
       "      <td>2355</td>\n",
       "      <td>Subscriber</td>\n",
       "      <td>1979.0</td>\n",
       "      <td>Male</td>\n",
       "      <td>No</td>\n",
       "    </tr>\n",
       "  </tbody>\n",
       "</table>\n",
       "</div>"
      ],
      "text/plain": [
       "   duration_sec                start_time                  end_time  \\\n",
       "0         71766  2018-03-31 16:58:33.1490  2018-04-01 12:54:39.2630   \n",
       "1         62569  2018-03-31 19:03:35.9160  2018-04-01 12:26:25.0350   \n",
       "2         56221  2018-03-31 20:13:13.5640  2018-04-01 11:50:14.8400   \n",
       "3         85844  2018-03-31 11:28:07.6580  2018-04-01 11:18:52.6130   \n",
       "4          1566  2018-03-31 23:37:56.6400  2018-04-01 00:04:02.8930   \n",
       "\n",
       "   start_station_id            start_station_name  start_station_latitude  \\\n",
       "0               4.0   Cyril Magnin St at Ellis St               37.785881   \n",
       "1              78.0           Folsom St at 9th St               37.773717   \n",
       "2             258.0   University Ave at Oxford St               37.872355   \n",
       "3             186.0        Lakeside Dr at 14th St               37.801319   \n",
       "4             193.0  Grand Ave at Santa Clara Ave               37.812744   \n",
       "\n",
       "   start_station_longitude  end_station_id               end_station_name  \\\n",
       "0              -122.408915             6.0  The Embarcadero at Sansome St   \n",
       "1              -122.411647            47.0          4th St at Harrison St   \n",
       "2              -122.266447           239.0  Bancroft Way at Telegraph Ave   \n",
       "3              -122.262642           340.0        Harmon St at Adeline St   \n",
       "4              -122.247215           196.0        Grand Ave at Perkins St   \n",
       "\n",
       "   end_station_latitude  end_station_longitude  bike_id   user_type  \\\n",
       "0             37.804770            -122.403234      341    Customer   \n",
       "1             37.780955            -122.399749      536  Subscriber   \n",
       "2             37.868813            -122.258764     3245    Customer   \n",
       "3             37.849735            -122.270582     3722    Customer   \n",
       "4             37.808894            -122.256460     2355  Subscriber   \n",
       "\n",
       "   member_birth_year member_gender bike_share_for_all_trip  \n",
       "0             1964.0        Female                      No  \n",
       "1             1984.0          Male                      No  \n",
       "2             1983.0          Male                      No  \n",
       "3                NaN           NaN                      No  \n",
       "4             1979.0          Male                      No  "
      ]
     },
     "execution_count": 19,
     "metadata": {},
     "output_type": "execute_result"
    }
   ],
   "source": [
    "print(baywheels_data.shape)  \n",
    "print(baywheels_data.dtypes)\n",
    "baywheels_data.head()"
   ]
  },
  {
   "cell_type": "markdown",
   "metadata": {},
   "source": [
    "All the files are in one unique dataframe `baywheels_data`, but there are many issues to fix before using the \n",
    "dataframe. Many columns does not have the correct data type(start_time, end_time, start_station_id,end_station_id,\n",
    "user_type,member_birth_year,member_gender)."
   ]
  },
  {
   "cell_type": "code",
   "execution_count": 28,
   "metadata": {},
   "outputs": [],
   "source": [
    "# Change the data type of start_time and end_time from object to date_time\n",
    "baywheels_data.start_time = pd.to_datetime(baywheels_data.start_time, format = '%Y-%m-%d %H:%M:%S.%f')\n",
    "baywheels_data.end_time = pd.to_datetime(baywheels_data.end_time, format = '%Y-%m-%d %H:%M:%S.%f')"
   ]
  },
  {
   "cell_type": "code",
   "execution_count": 31,
   "metadata": {},
   "outputs": [],
   "source": [
    "# Assert that the changes are correct, no output means it is correct\n",
    "assert baywheels_data.start_time.dtypes == '<datetime64[ns]'\n",
    "assert baywheels_data.end_time.dtypes == '<datetime64[ns]'"
   ]
  },
  {
   "cell_type": "code",
   "execution_count": 49,
   "metadata": {},
   "outputs": [],
   "source": [
    "# Change member_birth_year from float to int \n",
    "baywheels_data.member_birth_year = baywheels_data.member_birth_year.fillna(0) # fill all the NaN with 0 \n",
    "baywheels_data.member_birth_year = baywheels_data.member_birth_year.astype(int)"
   ]
  },
  {
   "cell_type": "code",
   "execution_count": 52,
   "metadata": {},
   "outputs": [],
   "source": [
    "# Check if the data type is correct, no output means it is correct \n",
    "assert baywheels_data.member_birth_year.dtypes == 'int64'"
   ]
  },
  {
   "cell_type": "code",
   "execution_count": 63,
   "metadata": {},
   "outputs": [],
   "source": [
    "# Change the data type of member_gender from string to category\n",
    "baywheels_data.member_gender = baywheels_data.member_gender.fillna('Other') # Change the na values with other\n",
    "baywheels_data.member_gender = baywheels_data.member_gender.astype('category')"
   ]
  },
  {
   "cell_type": "code",
   "execution_count": 64,
   "metadata": {},
   "outputs": [],
   "source": [
    "# Check if the data type is correct, no output means it is correct\n",
    "assert baywheels_data.member_gender.dtypes == 'category'"
   ]
  },
  {
   "cell_type": "code",
   "execution_count": 66,
   "metadata": {},
   "outputs": [],
   "source": [
    "# Change the user type from string to category  \n",
    "baywheels_data.user_type = baywheels_data.user_type.astype('category')"
   ]
  },
  {
   "cell_type": "code",
   "execution_count": 67,
   "metadata": {},
   "outputs": [],
   "source": [
    "# Check the changes, no output means it is correct\n",
    "assert baywheels_data.user_type.dtypes == 'category'"
   ]
  },
  {
   "cell_type": "code",
   "execution_count": 71,
   "metadata": {},
   "outputs": [],
   "source": [
    "baywheels_data.start_station_id = baywheels_data.start_station_id.fillna(0) # Replace the NaNs values with 0 \n",
    "baywheels_data.end_station_id = baywheels_data.end_station_id.fillna(0)     # Replace the NaNs values with 0 \n",
    "# Change data type of start_station_id and end_station_id from float to int\n",
    "baywheels_data.start_station_id = baywheels_data.start_station_id.astype(int)\n",
    "baywheels_data.end_station_id = baywheels_data.end_station_id.astype(int)"
   ]
  },
  {
   "cell_type": "code",
   "execution_count": 75,
   "metadata": {},
   "outputs": [],
   "source": [
    "# Check the changes, no output means it is ok\n",
    "assert baywheels_data.start_station_id.dtypes == 'int64'\n",
    "assert baywheels_data.end_station_id.dtypes == 'int64'"
   ]
  },
  {
   "cell_type": "code",
   "execution_count": 82,
   "metadata": {},
   "outputs": [
    {
     "data": {
      "text/plain": [
       "Index(['duration_sec', 'start_time', 'end_time', 'start_station_id',\n",
       "       'start_station_name', 'start_station_latitude',\n",
       "       'start_station_longitude', 'end_station_id', 'end_station_name',\n",
       "       'end_station_latitude', 'end_station_longitude', 'bike_id', 'user_type',\n",
       "       'member_birth_year', 'member_gender', 'bike_share_for_all_trip'],\n",
       "      dtype='object')"
      ]
     },
     "execution_count": 82,
     "metadata": {},
     "output_type": "execute_result"
    }
   ],
   "source": [
    "# Some descriptives statistics for numeric variables\n",
    "baywheels_data.describe()\n",
    "baywheels_data.columns"
   ]
  },
  {
   "cell_type": "markdown",
   "metadata": {},
   "source": [
    "**Structure of the Dataset**  \n",
    "There are 1863721 rows and 16 variables in the dataset(duration_sec, start_time, end_time, start_station_id, start_station_name, start_station_latitude, start_station_longitude, end_station_id, end_station_name, end_station_latitude, end_station_longitude, bike_id, user_type, member_birth_year, member_gender, bike_share_for_all_trip), 9 of these are numerical variables."
   ]
  },
  {
   "cell_type": "markdown",
   "metadata": {},
   "source": [
    "**Main features of interest in the dataset**  \n",
    "We are more interested in figuring out what factors or features affect the place a trip is taken and the duration of the trips."
   ]
  },
  {
   "cell_type": "code",
   "execution_count": null,
   "metadata": {},
   "outputs": [],
   "source": [
    "**Features That will help support our investigation into our features of interest**  \n",
    "Probably during the summer and holidays there will be more trip and for more time so the variables start_time and\n",
    "end_time will probably have the major effect on the duration, we can also expect that subscriber takes more trips\n",
    "than customers \n"
   ]
  }
 ],
 "metadata": {
  "kernelspec": {
   "display_name": "investigate",
   "language": "python",
   "name": "investigate_data"
  },
  "language_info": {
   "codemirror_mode": {
    "name": "ipython",
    "version": 3
   },
   "file_extension": ".py",
   "mimetype": "text/x-python",
   "name": "python",
   "nbconvert_exporter": "python",
   "pygments_lexer": "ipython3",
   "version": "3.7.3"
  }
 },
 "nbformat": 4,
 "nbformat_minor": 2
}
